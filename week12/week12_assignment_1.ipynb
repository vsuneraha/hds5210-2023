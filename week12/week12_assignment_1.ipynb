{
  "cells": [
    {
      "cell_type": "markdown",
      "metadata": {
        "id": "a_pU_1iDTdel"
      },
      "source": [
        "In this week's lectures, we talked about \"pivoting\" data between wide formats and long formats.  This is an extremely useful process when trying to understand, aggregate, and process data in different ways.  Similiar to Excel Pivot Tables, pivoting data with Pandas can help you aggregate data and look for patterns more easily.\n",
        "\n",
        "Test your knowledge of the content from the lectures through the multiple choice questions below.\n",
        "\n",
        "---\n",
        "---"
      ]
    },
    {
      "cell_type": "markdown",
      "metadata": {
        "id": "AclVcyHATden"
      },
      "source": [
        "### 48.1 Which of the following functions can pivot data in Pandas from long to wide formats?\n",
        "\n",
        "> A) flatten\n",
        ">\n",
        "> B) pivot_table\n",
        ">\n",
        "> C) pivot\n",
        ">\n",
        "> D) expand"
      ]
    },
    {
      "cell_type": "code",
      "execution_count": 1,
      "metadata": {
        "id": "X_MeHkWiTdeo"
      },
      "outputs": [],
      "source": [
        "answers = {}\n",
        "answers['48.1'] = [\"B\",\"C\"]"
      ]
    },
    {
      "cell_type": "markdown",
      "metadata": {
        "id": "z5LkZrpWTdeo"
      },
      "source": [
        "### 48.2 Given the code below, what columns will the resulting data frame have?\n",
        "\n",
        "\n",
        "```python\n",
        "data.pivot(index='Txn', columns='Dept', values='Amount)\n",
        "```\n",
        "\n",
        "\n",
        "| Txn | Dept | Amount |\n",
        "|---|---|---|\n",
        "| A8739 | Finance | 10.21 |\n",
        "| A9821 | IT | 91.13 |\n",
        "| A8739 | Hospital | 11.33 |\n",
        "| AB783 | HR | 190.29 |\n",
        "| A1123 | Hospital | 98.44 |\n",
        "| A8719 | IT | 43.88 |\n",
        "\n",
        "\n",
        "> A) Dept\n",
        ">\n",
        "> B) Txn, Amount 1, Amount 2, Amount 3, Amount 4\n",
        ">\n",
        "> C) Finance, IT, HR, Hospital, Amount\n",
        ">\n",
        "> D) Txn, Finance, IT, Hospital, HR"
      ]
    },
    {
      "cell_type": "code",
      "execution_count": 2,
      "metadata": {
        "id": "o6MApgMkTdeo"
      },
      "outputs": [],
      "source": [
        "answers['48.2'] = \"C\""
      ]
    },
    {
      "cell_type": "markdown",
      "metadata": {
        "id": "75qqM9wOTdeo"
      },
      "source": [
        "### 49.1 Which of the following functions can stack a Pandas data frame from wide to long formats?\n",
        "\n",
        "> A) melt\n",
        ">\n",
        "> B) pivot\n",
        ">\n",
        "> C) wide_to_long\n",
        ">\n",
        "> D) stack"
      ]
    },
    {
      "cell_type": "code",
      "execution_count": 3,
      "metadata": {
        "id": "EGBKoLhiTdeo"
      },
      "outputs": [],
      "source": [
        "answers['49.1'] = [\"A\",\"C\",\"D\"]"
      ]
    },
    {
      "cell_type": "code",
      "execution_count": 3,
      "metadata": {
        "id": "RvUn2ANQTdep"
      },
      "outputs": [],
      "source": []
    },
    {
      "cell_type": "code",
      "execution_count": 3,
      "metadata": {
        "id": "q5NLpDXSTdep"
      },
      "outputs": [],
      "source": []
    },
    {
      "cell_type": "markdown",
      "metadata": {
        "id": "iulgDE3HTdep"
      },
      "source": [
        "---\n",
        "\n",
        "Checking Your Work\n",
        "---\n",
        "\n",
        "After completing your work above and running each cell, you can check your answers by running the code below.\n",
        "\n",
        "The easiest way to do this is to use the `Kernel` -> `Restart Kernel and Run All Cells` menu option. This option restarts Python and runs every cell from top to bottom until it encounters an exception of some kind.  It will stop after running the cell below and outputing a summary of how many answers you have correct or incorrect.\n"
      ]
    },
    {
      "cell_type": "code",
      "execution_count": 4,
      "metadata": {
        "id": "oHR-IJM-Tdep",
        "outputId": "02efbf7d-f22c-44fa-a3f2-042ff1ae0943",
        "colab": {
          "base_uri": "https://localhost:8080/"
        }
      },
      "outputs": [
        {
          "output_type": "stream",
          "name": "stdout",
          "text": [
            "Collecting boto3\n",
            "  Downloading boto3-1.29.4-py3-none-any.whl (135 kB)\n",
            "\u001b[2K     \u001b[90m━━━━━━━━━━━━━━━━━━━━━━━━━━━━━━━━━━━━━━━━\u001b[0m \u001b[32m135.8/135.8 kB\u001b[0m \u001b[31m1.3 MB/s\u001b[0m eta \u001b[36m0:00:00\u001b[0m\n",
            "\u001b[?25hCollecting botocore<1.33.0,>=1.32.4 (from boto3)\n",
            "  Downloading botocore-1.32.4-py3-none-any.whl (11.4 MB)\n",
            "\u001b[2K     \u001b[90m━━━━━━━━━━━━━━━━━━━━━━━━━━━━━━━━━━━━━━━━\u001b[0m \u001b[32m11.4/11.4 MB\u001b[0m \u001b[31m62.7 MB/s\u001b[0m eta \u001b[36m0:00:00\u001b[0m\n",
            "\u001b[?25hCollecting jmespath<2.0.0,>=0.7.1 (from boto3)\n",
            "  Downloading jmespath-1.0.1-py3-none-any.whl (20 kB)\n",
            "Collecting s3transfer<0.8.0,>=0.7.0 (from boto3)\n",
            "  Downloading s3transfer-0.7.0-py3-none-any.whl (79 kB)\n",
            "\u001b[2K     \u001b[90m━━━━━━━━━━━━━━━━━━━━━━━━━━━━━━━━━━━━━━━━\u001b[0m \u001b[32m79.8/79.8 kB\u001b[0m \u001b[31m4.1 MB/s\u001b[0m eta \u001b[36m0:00:00\u001b[0m\n",
            "\u001b[?25hRequirement already satisfied: python-dateutil<3.0.0,>=2.1 in /usr/local/lib/python3.10/dist-packages (from botocore<1.33.0,>=1.32.4->boto3) (2.8.2)\n",
            "Requirement already satisfied: urllib3<2.1,>=1.25.4 in /usr/local/lib/python3.10/dist-packages (from botocore<1.33.0,>=1.32.4->boto3) (2.0.7)\n",
            "Requirement already satisfied: six>=1.5 in /usr/local/lib/python3.10/dist-packages (from python-dateutil<3.0.0,>=2.1->botocore<1.33.0,>=1.32.4->boto3) (1.16.0)\n",
            "Installing collected packages: jmespath, botocore, s3transfer, boto3\n",
            "Successfully installed boto3-1.29.4 botocore-1.32.4 jmespath-1.0.1 s3transfer-0.7.0\n",
            "=============================================\n",
            "== RESULTS for vsuneraha@slu.edu\n",
            "=============================================\n",
            "   Q#               Yours  Correct?\n",
            " 48.1          ['B', 'C']        OK\n",
            " 48.2                   C        OK\n",
            " 49.1     ['A', 'C', 'D']        OK\n"
          ]
        }
      ],
      "source": [
        "!pip install boto3\n",
        "import httpimport\n",
        "with httpimport.remote_repo('https://gist.githubusercontent.com/paulboal/f14bead2d24fcb9499f4de4607908824/raw/4c3c0e75ea1510bb090bada047372954160e64d4'):\n",
        "    import checker\n",
        "\n",
        "checker.check_hds5210(answers, 'week12')"
      ]
    },
    {
      "cell_type": "markdown",
      "metadata": {
        "id": "vArlygq3Tdep"
      },
      "source": [
        "---\n",
        "\n",
        "## Check your work above\n",
        "\n",
        "If you didn't get them all correct, take a few minutes to think through those that aren't correct.\n",
        "\n",
        "\n",
        "## Submitting Your Work\n",
        "\n",
        "In order to submit your work, you'll need to save this notebook file back to GitHub.  To do that in Google Colab:\n",
        "1. File -> Save a Copy in GitHub\n",
        "2. Make sure your HDS5210 repository is selected\n",
        "3. Make sure the file name includes the week number like this: `week02/week02_assignment_1.ipynb`\n",
        "4. Add a commit message that means something\n",
        "\n",
        "**Be sure week names are lowercase and use a two digit week number!!**\n",
        "\n",
        "**Be sure you use the same file name provided by the instructor!!**\n",
        "\n"
      ]
    }
  ],
  "metadata": {
    "kernelspec": {
      "display_name": "Python 3",
      "language": "python",
      "name": "python3"
    },
    "language_info": {
      "codemirror_mode": {
        "name": "ipython",
        "version": 3
      },
      "file_extension": ".py",
      "mimetype": "text/x-python",
      "name": "python",
      "nbconvert_exporter": "python",
      "pygments_lexer": "ipython3",
      "version": "3.6.7"
    },
    "colab": {
      "provenance": []
    }
  },
  "nbformat": 4,
  "nbformat_minor": 0
}