{
  "cells": [
    {
      "cell_type": "markdown",
      "metadata": {
        "id": "view-in-github",
        "colab_type": "text"
      },
      "source": [
        "<a href=\"https://colab.research.google.com/github/vsuneraha/hds5210-2023/blob/main/week03/week03_assignment_1.ipynb\" target=\"_parent\"><img src=\"https://colab.research.google.com/assets/colab-badge.svg\" alt=\"Open In Colab\"/></a>"
      ]
    },
    {
      "cell_type": "markdown",
      "metadata": {
        "nbgrader": {
          "grade": false,
          "grade_id": "intro",
          "locked": true,
          "schema_version": 1,
          "solution": false
        },
        "id": "le0-j_CReUIg"
      },
      "source": [
        "# Week 2 Exercises\n",
        "\n",
        "_modules 9 - 13_\n",
        "\n",
        "This assignment is to be completed after watching the video lectures for modules 9 - 13, understanding how to control the flow of code execution through things like loops (for, while, range) and conditions (if).  Please review the content in those modules through Blackboard and then complete the review below as instructed.  When complete, there are instructions at the bottom of the exercise that will allow you to check your work and then submit it via github.com\n",
        "\n",
        "For each of the multiple choice quesitons below, do not change the variable name.  Only change the answer part to match whichever letter or letters are the correct answer.  \n",
        "\n",
        "For example, in the problem below, the correct answer is `D`, so you would provide the answer as show.\n",
        "\n",
        "---\n",
        "```\n",
        "0.1 Instructor's Name\n",
        "The correct spelling of this instructor's last name is:\n",
        " A) Bowl\n",
        " B) Bole\n",
        " C) Boll\n",
        " D) Boal\n",
        "```\n",
        "---\n",
        "```\n",
        "answer[\"0.1\"]=\"D\"\n",
        "```\n",
        "---\n",
        "\n",
        "Do not change anything else or add any other code to this notebook. If you need to do scratch work to determine an answer, create a new notebook and do your work there."
      ]
    },
    {
      "cell_type": "markdown",
      "metadata": {
        "id": "dbyheXzbeUIj"
      },
      "source": [
        "---\n",
        "---"
      ]
    },
    {
      "cell_type": "markdown",
      "metadata": {
        "id": "m2hq0AZPeUIj"
      },
      "source": [
        "### 9.1 - Which of the statements about Python IF statements is TRUE:\n",
        "\n",
        "> A) IF can only perform a test on numerical values\n",
        ">\n",
        "> B) The IF statement will cause an error if the condition is not TRUE and there is no ELSE statement\n",
        ">\n",
        "> C) Executes only the next one line of code if the test is True\n",
        ">\n",
        "> D) Your code can contain as many IF / ELIF branches of logic as you want\n"
      ]
    },
    {
      "cell_type": "code",
      "execution_count": 3,
      "metadata": {
        "id": "98OTiyZseUIj"
      },
      "outputs": [],
      "source": [
        "answers = {}\n",
        "answers[\"9.1\"] = \"D\""
      ]
    },
    {
      "cell_type": "markdown",
      "metadata": {
        "id": "5wAW5jkGeUIk"
      },
      "source": [
        "### 9.2 - What will the following code print to the screen?\n",
        "_Try to do this by reading it, not copying and pasting it into a notebook_\n",
        "\n",
        "```python\n",
        "age = 21\n",
        "\n",
        "if age <= 18:\n",
        "    label = 'kid'\n",
        "\n",
        "print(label)\n",
        "```\n",
        "\n",
        "> A) `adult`\n",
        ">\n",
        "> B) `kid`\n",
        ">\n",
        "> C) _nothing_\n",
        ">\n",
        "> D) It will report an error message"
      ]
    },
    {
      "cell_type": "code",
      "execution_count": 4,
      "metadata": {
        "id": "o7skUXrDeUIk"
      },
      "outputs": [],
      "source": [
        "answers[\"9.2\"] = \"D\""
      ]
    },
    {
      "cell_type": "markdown",
      "metadata": {
        "id": "xeAo5UAoeUIk"
      },
      "source": [
        "### 9.3 - What will the follow code print to the screen?\n",
        "\n",
        "```python\n",
        "temp = 22\n",
        "precipitation = 'wet'\n",
        "\n",
        "if precipitation != 'wet':\n",
        "    weather = 'dry'\n",
        "else:\n",
        "    if temp > 32:\n",
        "        weather = 'rain'\n",
        "    elif temp < 32:\n",
        "        weather = 'sleet'\n",
        "    elif temp < 28:\n",
        "        weather = 'mix'\n",
        "    else:\n",
        "        weather = 'snow'\n",
        "\n",
        "print(weather)\n",
        "```\n",
        "\n",
        "> A) `dry`\n",
        ">\n",
        "> B) `mix`\n",
        ">\n",
        "> C) `sleet`\n",
        ">\n",
        "> D) `snow`\n"
      ]
    },
    {
      "cell_type": "code",
      "execution_count": 5,
      "metadata": {
        "id": "MW7DTYIieUIk"
      },
      "outputs": [],
      "source": [
        "answers[\"9.3\"] = \"C\""
      ]
    },
    {
      "cell_type": "markdown",
      "metadata": {
        "id": "sNV86uYEeUIk"
      },
      "source": [
        "### 10.1 - How many times will the following code print the phrase 'Hello World!'?\n",
        "\n",
        "```python\n",
        "start = 1\n",
        "stop = 1000\n",
        "\n",
        "for num in range(start, stop):\n",
        "    print('Hello World!')\n",
        "    start = start + 5\n",
        "```\n",
        "\n",
        "> A) 200 times\n",
        ">\n",
        "> B) 199 times\n",
        ">\n",
        "> C) 999 times\n",
        ">\n",
        "> D) 1000 times"
      ]
    },
    {
      "cell_type": "code",
      "execution_count": 6,
      "metadata": {
        "id": "0rfmuxKeeUIl"
      },
      "outputs": [],
      "source": [
        "answers[\"10.1\"] = \"C\""
      ]
    },
    {
      "cell_type": "markdown",
      "metadata": {
        "id": "fCNCn6A2eUIl"
      },
      "source": [
        "### 10.2 - Which of these best describes how the `range` function works?\n",
        "\n",
        "> A) It generates a list of values, and then steps through every element of that list.\n",
        ">\n",
        "> B) It returns an `iterable` object that returns the next value each time the loop is repeated.\n",
        ">\n",
        "> C) It pre-generates (copies / pastes) the code required to execute the `for` loop according to the range() parameters\n",
        ">\n",
        "> D) If just runs the specified code as many times as necessary to create the right output.\n"
      ]
    },
    {
      "cell_type": "code",
      "execution_count": 7,
      "metadata": {
        "id": "CCkV0iNDeUIl"
      },
      "outputs": [],
      "source": [
        "answers[\"10.2\"] = \"B\""
      ]
    },
    {
      "cell_type": "markdown",
      "metadata": {
        "id": "hBN1IkZ0eUIl"
      },
      "source": [
        "### 11.1 - If you accidentally run an infine while loop in Jupyter:\n",
        "\n",
        "> A) Close the browser window and it will automatically stop.\n",
        ">\n",
        "> B) Interrupt or restart the kernel.\n",
        ">\n",
        "> C) You will overheat the server and burn it up, causing the instructor to pay a big fine and you to fail the class.\n",
        ">\n",
        "> D) Slack the professor so that he can stop the loop for you."
      ]
    },
    {
      "cell_type": "code",
      "execution_count": 8,
      "metadata": {
        "id": "3uyy6xGGeUIl"
      },
      "outputs": [],
      "source": [
        "answers[\"11.1\"] = \"B\""
      ]
    },
    {
      "cell_type": "markdown",
      "metadata": {
        "id": "oerdvAuSeUIl"
      },
      "source": [
        "### 11.2 - What will the following code print to the screen?\n",
        "_Try to determine the answer by reading the code, not by copying and pasting it into another notebook._\n",
        "\n",
        "```python\n",
        "counter = 1\n",
        "\n",
        "while (counter < 10):\n",
        "    print(counter)\n",
        "    break\n",
        "```\n",
        "\n",
        "> A) `1,2,3,4,5,6,7,8,9,10`\n",
        ">\n",
        "> B) `1,2,3,4,5,6,7,8,9`\n",
        ">\n",
        "> C) `1`\n",
        ">\n",
        "> D) _nothing_"
      ]
    },
    {
      "cell_type": "code",
      "execution_count": 9,
      "metadata": {
        "id": "-hTnDEmXeUIl"
      },
      "outputs": [],
      "source": [
        "answers[\"11.2\"] = \"C\""
      ]
    },
    {
      "cell_type": "markdown",
      "metadata": {
        "id": "PklT8YaQeUIl"
      },
      "source": [
        "### 11.3 - What will the follow code do?\n",
        "\n",
        "```python\n",
        "status = True\n",
        "\n",
        "while (status):\n",
        "    status =  False\n",
        "    \n",
        "while (status):\n",
        "    status = True\n",
        "    print(\"The status is now true\")\n",
        "```\n",
        "\n",
        "> A) The code will print 'The status is now true'\n",
        ">\n",
        "> B) The code will run but nothing will print to the screen\n",
        ">\n",
        "> C) Only the very first line of code will execute\n",
        ">\n",
        "> D) You will create an infinite loop and experience the consequences in 11.1"
      ]
    },
    {
      "cell_type": "code",
      "execution_count": 10,
      "metadata": {
        "id": "10LapKBReUIm"
      },
      "outputs": [],
      "source": [
        "answers[\"11.3\"] = \"B\""
      ]
    },
    {
      "cell_type": "markdown",
      "metadata": {
        "id": "Ch503GFEeUIm"
      },
      "source": [
        "### 12.1 - Which of the following is **not** a true statement about the `range` function?\n",
        "\n",
        "> A) `range()` always produces incrementing numbers\n",
        ">\n",
        "> B) `range()` doesn't actually create the whole list of output numbers all at once\n",
        ">\n",
        "> C) `range()` can only produce integer values\n",
        ">\n",
        "> D) `range()` can use negative numbers for start and end values"
      ]
    },
    {
      "cell_type": "code",
      "execution_count": 11,
      "metadata": {
        "id": "z2zsqUMgeUIm"
      },
      "outputs": [],
      "source": [
        "answers[\"12.1\"] = \"A\""
      ]
    },
    {
      "cell_type": "markdown",
      "metadata": {
        "id": "Mi0I6RuUeUIm"
      },
      "source": [
        "### 12.2 - How many numbers will the following code output?\n",
        "\n",
        "```python\n",
        "for value in range(-1,1,1):\n",
        "    print(value)\n",
        "```\n",
        "\n",
        "> A) _None_\n",
        ">\n",
        "> B) 1\n",
        ">\n",
        "> C) 2\n",
        ">\n",
        "> D) 3"
      ]
    },
    {
      "cell_type": "code",
      "execution_count": 12,
      "metadata": {
        "id": "TKhDhJsReUIm"
      },
      "outputs": [],
      "source": [
        "answers[\"12.2\"] = \"C\""
      ]
    },
    {
      "cell_type": "markdown",
      "metadata": {
        "id": "9ZghBC1leUIm"
      },
      "source": [
        "### 12.3 - What is the last number this `range` call will produce?\n",
        "\n",
        "```python\n",
        "for value in range(8,10,-2):\n",
        "    print(value)\n",
        "```\n",
        "\n",
        "> A) 8\n",
        ">\n",
        "> B) 10\n",
        ">\n",
        "> C) 9\n",
        ">\n",
        "> D) _it will produce nothing_"
      ]
    },
    {
      "cell_type": "code",
      "execution_count": 13,
      "metadata": {
        "id": "RICSdN5keUIm"
      },
      "outputs": [],
      "source": [
        "answers[\"12.3\"] = \"D\""
      ]
    },
    {
      "cell_type": "markdown",
      "metadata": {
        "id": "q2lxfTBteUIm"
      },
      "source": [
        "### 13.1 - What is another name for the inline if statement?\n",
        "\n",
        "> A) Conditional\n",
        ">\n",
        "> B) Three-part if\n",
        ">\n",
        "> C) Ternary operator\n",
        ">\n",
        "> D) IFF"
      ]
    },
    {
      "cell_type": "code",
      "execution_count": 14,
      "metadata": {
        "id": "-KRD4s12eUIm"
      },
      "outputs": [],
      "source": [
        "answers[\"13.1\"] = \"C\""
      ]
    },
    {
      "cell_type": "markdown",
      "metadata": {
        "id": "588CrRu-eUIm"
      },
      "source": [
        "### 13.2 - Which of the following pairs of parameters and outputs are correct?\n",
        "\n",
        "```python\n",
        "def label(age, gender):\n",
        "    return (\n",
        "        ('young ' if age < 18 else ('retired ' if age > 65 else '')) +\n",
        "        ('lady' if gender == 'female' else 'guy')\n",
        "    )\n",
        "```\n",
        "\n",
        "> A) `label(67, 'male') == 'man'`\n",
        ">\n",
        "> B) `label(18, 'female') == 'young lady'`\n",
        ">\n",
        "> C) `label(4, 'female') == 'young lady'`\n",
        ">\n",
        "> D) `label(65, 'male') == 'man'`"
      ]
    },
    {
      "cell_type": "code",
      "execution_count": 15,
      "metadata": {
        "id": "h3s2d91weUIm"
      },
      "outputs": [],
      "source": [
        "answers[\"13.2\"] = [\"C\"]"
      ]
    },
    {
      "cell_type": "markdown",
      "metadata": {
        "id": "GLIvmT9teUIm"
      },
      "source": [
        "---\n",
        "\n",
        "Checking Your Work\n",
        "---\n",
        "\n",
        "After completing your work above and running each cell, you can check your answers by running the code below.\n",
        "\n",
        "The easiest way to do this is to use the `Kernel` -> `Restart Kernel and Run All Cells` menu option. This option restarts Python and runs every cell from top to bottom until it encounters an exception of some kind.  It will stop after running the cell below and outputing a summary of how many answers you have correct or incorrect.\n"
      ]
    },
    {
      "cell_type": "code",
      "execution_count": 16,
      "metadata": {
        "id": "3WghiJAWeUIm",
        "outputId": "32ea0cd4-1683-46f0-8f00-8983d4a66d61",
        "colab": {
          "base_uri": "https://localhost:8080/"
        }
      },
      "outputs": [
        {
          "output_type": "stream",
          "name": "stdout",
          "text": [
            "Collecting boto3\n",
            "  Downloading boto3-1.28.50-py3-none-any.whl (135 kB)\n",
            "\u001b[2K     \u001b[90m━━━━━━━━━━━━━━━━━━━━━━━━━━━━━━━━━━━━━━━\u001b[0m \u001b[32m135.8/135.8 kB\u001b[0m \u001b[31m3.9 MB/s\u001b[0m eta \u001b[36m0:00:00\u001b[0m\n",
            "\u001b[?25hCollecting botocore<1.32.0,>=1.31.50 (from boto3)\n",
            "  Downloading botocore-1.31.50-py3-none-any.whl (11.2 MB)\n",
            "\u001b[2K     \u001b[90m━━━━━━━━━━━━━━━━━━━━━━━━━━━━━━━━━━━━━━━━\u001b[0m \u001b[32m11.2/11.2 MB\u001b[0m \u001b[31m90.4 MB/s\u001b[0m eta \u001b[36m0:00:00\u001b[0m\n",
            "\u001b[?25hCollecting jmespath<2.0.0,>=0.7.1 (from boto3)\n",
            "  Downloading jmespath-1.0.1-py3-none-any.whl (20 kB)\n",
            "Collecting s3transfer<0.7.0,>=0.6.0 (from boto3)\n",
            "  Downloading s3transfer-0.6.2-py3-none-any.whl (79 kB)\n",
            "\u001b[2K     \u001b[90m━━━━━━━━━━━━━━━━━━━━━━━━━━━━━━━━━━━━━━━━\u001b[0m \u001b[32m79.8/79.8 kB\u001b[0m \u001b[31m7.7 MB/s\u001b[0m eta \u001b[36m0:00:00\u001b[0m\n",
            "\u001b[?25hRequirement already satisfied: python-dateutil<3.0.0,>=2.1 in /usr/local/lib/python3.10/dist-packages (from botocore<1.32.0,>=1.31.50->boto3) (2.8.2)\n",
            "Collecting urllib3<1.27,>=1.25.4 (from botocore<1.32.0,>=1.31.50->boto3)\n",
            "  Downloading urllib3-1.26.16-py2.py3-none-any.whl (143 kB)\n",
            "\u001b[2K     \u001b[90m━━━━━━━━━━━━━━━━━━━━━━━━━━━━━━━━━━━━━━\u001b[0m \u001b[32m143.1/143.1 kB\u001b[0m \u001b[31m16.4 MB/s\u001b[0m eta \u001b[36m0:00:00\u001b[0m\n",
            "\u001b[?25hRequirement already satisfied: six>=1.5 in /usr/local/lib/python3.10/dist-packages (from python-dateutil<3.0.0,>=2.1->botocore<1.32.0,>=1.31.50->boto3) (1.16.0)\n",
            "Installing collected packages: urllib3, jmespath, botocore, s3transfer, boto3\n",
            "  Attempting uninstall: urllib3\n",
            "    Found existing installation: urllib3 2.0.4\n",
            "    Uninstalling urllib3-2.0.4:\n",
            "      Successfully uninstalled urllib3-2.0.4\n",
            "Successfully installed boto3-1.28.50 botocore-1.31.50 jmespath-1.0.1 s3transfer-0.6.2 urllib3-1.26.16\n",
            "=============================================\n",
            "== RESULTS for vsuneraha@slu.edu\n",
            "=============================================\n",
            "   Q#               Yours  Correct?\n",
            "  9.1                   D        OK\n",
            "  9.2                   D        OK\n",
            "  9.3                   C        OK\n",
            " 10.1                   C        OK\n",
            " 10.2                   B        OK\n",
            " 11.1                   B        OK\n",
            " 11.2                   C        OK\n",
            " 11.3                   B        OK\n",
            " 12.1                   A        OK\n",
            " 12.2                   C        OK\n",
            " 12.3                   D        OK\n",
            " 13.1                   C        OK\n",
            " 13.2               ['C']        OK\n"
          ]
        }
      ],
      "source": [
        "!pip install boto3\n",
        "import httpimport\n",
        "with httpimport.remote_repo('https://gist.githubusercontent.com/paulboal/f14bead2d24fcb9499f4de4607908824/raw/4c3c0e75ea1510bb090bada047372954160e64d4'):\n",
        "    import checker\n",
        "\n",
        "checker.check_hds5210(answers, 'week03')"
      ]
    },
    {
      "cell_type": "markdown",
      "metadata": {
        "id": "8ivS_xKpeUIn"
      },
      "source": [
        "---\n",
        "\n",
        "## Check your work above\n",
        "\n",
        "If you didn't get them all correct, take a few minutes to think through those that aren't correct.\n",
        "\n",
        "\n",
        "## Submitting Your Work\n",
        "\n",
        "In order to submit your work, you'll need to save this notebook file back to GitHub.  To do that in Google Colab:\n",
        "1. File -> Save a Copy in GitHub\n",
        "2. Make sure your HDS5210 repository is selected\n",
        "3. Make sure the file name includes the week number like this: `week03/week03_assignment_1.ipynb`\n",
        "4. Add a commit message that means something\n",
        "\n",
        "**Be sure week names are lowercase and use a two digit week number!!**\n",
        "\n",
        "**Be sure you use the same file name provided by the instructor!!**\n",
        "\n"
      ]
    },
    {
      "cell_type": "code",
      "source": [],
      "metadata": {
        "id": "imo00OxJfBbZ"
      },
      "execution_count": 16,
      "outputs": []
    }
  ],
  "metadata": {
    "celltoolbar": "Create Assignment",
    "kernelspec": {
      "display_name": "Python 3",
      "language": "python",
      "name": "python3"
    },
    "language_info": {
      "codemirror_mode": {
        "name": "ipython",
        "version": 3
      },
      "file_extension": ".py",
      "mimetype": "text/x-python",
      "name": "python",
      "nbconvert_exporter": "python",
      "pygments_lexer": "ipython3",
      "version": "3.6.7"
    },
    "colab": {
      "provenance": [],
      "include_colab_link": true
    }
  },
  "nbformat": 4,
  "nbformat_minor": 0
}