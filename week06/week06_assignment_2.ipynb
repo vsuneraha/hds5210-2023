{
  "cells": [
    {
      "cell_type": "markdown",
      "metadata": {
        "nbgrader": {
          "grade": false,
          "grade_id": "intro",
          "locked": true,
          "schema_version": 1,
          "solution": false
        },
        "id": "OtqgVkOQqNKg"
      },
      "source": [
        "# Week 6 Exercises\n",
        "\n",
        "_McKinney 6.1_\n",
        "\n",
        "There are multiple ways to solve the problems below.  You can use any one of several approaches.  For example, you can read CSV files using Pandas or the csv module.  Your score won't depend on which modules you choose to use unless explicitly noted below, but your programming style will still matter."
      ]
    },
    {
      "cell_type": "markdown",
      "metadata": {
        "nbgrader": {
          "grade": false,
          "grade_id": "q1-description",
          "locked": true,
          "schema_version": 1,
          "solution": false
        },
        "id": "KdhcEoHcqNKh"
      },
      "source": [
        "### 30.1 List of Allergies\n",
        "\n",
        "In this GitHub repository, there is a file called `allergies.json` that contains a list of patient allergies.  You will need to download this [file from here](https://raw.githubusercontent.com/paulboal/hds5210-2023/main/week06/allergies.json) and then upload it into Google Colab to run these examples. It is taken from sample data provided by the EHR vendor, Epic, here: https://open.epic.com/Clinical/Allergy\n",
        "\n",
        "Take some time to look at the structure of the file.  You can open it directly in Jupyter by clicking the _Home_ icon, then the _from_instructor_ folder, and then the _data_ folder.\n",
        "\n",
        "Within the file, you'll see that it is a dictionary with many items in it.  One of those items is called `entry` and that item is a list of things.  You can tell that because the item name is immediately followed by an opening square bracket, signifying the start of a list.  It's line 11 of the file: `  \"entry\": [`\n",
        "\n",
        "Write a function named `allergy_count(json_file)` that takes as one parameter the name of the JSON file and returns an integer number of entries in that file.  Your function should open the file, read the json into a Python object, and return how many items there are in the list of `entry`s."
      ]
    },
    {
      "cell_type": "code",
      "execution_count": 2,
      "metadata": {
        "id": "NfESAepMqNKh",
        "outputId": "21430066-92c6-4963-cda1-b3600169d306",
        "colab": {
          "base_uri": "https://localhost:8080/"
        }
      },
      "outputs": [
        {
          "output_type": "execute_result",
          "data": {
            "text/plain": [
              "dict"
            ]
          },
          "metadata": {},
          "execution_count": 2
        }
      ],
      "source": [
        "import json\n",
        "ALLERGIES_FILE=json.load(open('allergies.json'))\n",
        "type(ALLERGIES_FILE)"
      ]
    },
    {
      "cell_type": "code",
      "execution_count": 4,
      "metadata": {
        "nbgrader": {
          "grade": false,
          "grade_id": "q1-answer",
          "locked": false,
          "schema_version": 1,
          "solution": true
        },
        "id": "V89wPpaIqNKh"
      },
      "outputs": [],
      "source": [
        "# Put your solution here\n",
        "def allergy_count(json_file):\n",
        "  \"\"\"\n",
        "   (dict)->int\n",
        "   Here i have created a varible as events and I have run the for loop so that i\n",
        "   loop over the enteries an I have put the if condition to access the certainity\n",
        "   from the entry so if the certainity is confirmed it adds up the events so that\n",
        "   we get to see how many allergies are recorded.\n",
        "\n",
        "   >>> (allergy_count(ALLERGIES_FILE))\n",
        "   int\n",
        "\n",
        "   >>> allergy_count(ALLERGIES_FILE)\n",
        "   4\n",
        "  \"\"\"\n",
        "  try:\n",
        "    with open(json_file,'r') as file:\n",
        "      data=json.load(file)\n",
        "      if \"entry\" in data and isinstance(data[\"entry\"],list):\n",
        "        return len(data[\"entry\"])\n",
        "      else:\n",
        "        return 0\n",
        "  except FileNotFoundError:\n",
        "    return 0\n",
        "ALLERGIES_FILE='allergies.json'"
      ]
    },
    {
      "cell_type": "code",
      "execution_count": 5,
      "metadata": {
        "id": "c-mMUI4_qNKi",
        "outputId": "5b375ec6-c660-45fb-9143-8239817407f2",
        "colab": {
          "base_uri": "https://localhost:8080/"
        }
      },
      "outputs": [
        {
          "output_type": "execute_result",
          "data": {
            "text/plain": [
              "4"
            ]
          },
          "metadata": {},
          "execution_count": 5
        }
      ],
      "source": [
        "allergy_count(ALLERGIES_FILE)"
      ]
    },
    {
      "cell_type": "code",
      "execution_count": 6,
      "metadata": {
        "nbgrader": {
          "grade": true,
          "grade_id": "q1-tests",
          "locked": true,
          "points": 5,
          "schema_version": 1,
          "solution": false
        },
        "id": "EGLIgNYvqNKi"
      },
      "outputs": [],
      "source": [
        "assert type(allergy_count(ALLERGIES_FILE)) == int\n",
        "assert allergy_count(ALLERGIES_FILE) == 4"
      ]
    },
    {
      "cell_type": "code",
      "source": [
        "import doctest\n",
        "doctest.run_docstring_examples(allergy_count,globals(),verbose=True)"
      ],
      "metadata": {
        "id": "g0t34OnF220e",
        "outputId": "c1f3bd27-b7b9-41fe-d9db-79f37e56476b",
        "colab": {
          "base_uri": "https://localhost:8080/"
        }
      },
      "execution_count": 7,
      "outputs": [
        {
          "output_type": "stream",
          "name": "stderr",
          "text": [
            "\n",
            "PYDEV DEBUGGER WARNING:\n",
            "sys.settrace() should not be used when the debugger is being used.\n",
            "This may cause the debugger to stop working correctly.\n",
            "If this is needed, please check: \n",
            "http://pydev.blogspot.com/2007/06/why-cant-pydev-debugger-work-with.html\n",
            "to see how to restore the debug tracing back correctly.\n",
            "Call Location:\n",
            "  File \"/usr/lib/python3.10/doctest.py\", line 1501, in run\n",
            "    sys.settrace(save_trace)\n",
            "\n"
          ]
        },
        {
          "output_type": "stream",
          "name": "stdout",
          "text": [
            "Finding tests in NoName\n",
            "Trying:\n",
            "    (allergy_count(ALLERGIES_FILE))\n",
            "Expecting:\n",
            "    int\n",
            "**********************************************************************\n",
            "File \"__main__\", line 10, in NoName\n",
            "Failed example:\n",
            "    (allergy_count(ALLERGIES_FILE))\n",
            "Expected:\n",
            "    int\n",
            "Got:\n",
            "    4\n",
            "Trying:\n",
            "    allergy_count(ALLERGIES_FILE)\n",
            "Expecting:\n",
            "    4\n",
            "ok\n"
          ]
        }
      ]
    },
    {
      "cell_type": "markdown",
      "metadata": {
        "id": "31yKT4PCqNKi"
      },
      "source": [
        "### 30.2 Number of Patients\n",
        "\n",
        "If you dig a little bit deaper into this list of allergies, you'll see that each result has a patient associated with it.  Create a funcation called `patient_count(json_file)` that will count how many unique patients we have in this JSON structure.  "
      ]
    },
    {
      "cell_type": "code",
      "execution_count": 8,
      "metadata": {
        "id": "PA059DfQqNKi"
      },
      "outputs": [],
      "source": [
        "# Put your solution here\n",
        "import json\n",
        "\n",
        "def patient_count(json_file):\n",
        "  \"\"\"\n",
        "  (dict)->int\n",
        "   Here I have created a variable as events and I have run the for loop so that i\n",
        "   loop over the enteries an I have put the if conditions to access the certainity\n",
        "   from the entry so if the certainity is confirmed it adds up the event so that\n",
        "   we get to see how many allergies are recorded.\n",
        "\n",
        "   >>> type(patient_count(ALLERGIES_FILE))\n",
        "   int\n",
        "\n",
        "   >>> patient_count(ALLERGIES_FILE)\n",
        "    2\n",
        "    \"\"\"\n",
        "  try:\n",
        "      with open(json_file, 'r') as file:\n",
        "          data = json.load(file)\n",
        "          unique_patients = set()\n",
        "\n",
        "          if \"entry\" in data and isinstance(data[\"entry\"], list):\n",
        "              for entry in data[\"entry\"]:\n",
        "                   if \"resource\" in entry and \"patient\" in entry[\"resource\"] and \"display\" in entry[\"resource\"][\"patient\"]:\n",
        "                      patient_name = entry[\"resource\"][\"patient\"][\"display\"]\n",
        "                      unique_patients.add(patient_name)\n",
        "\n",
        "          return len(unique_patients)\n",
        "  except FileNotFoundError:\n",
        "        return 0  # Return 0 if the file is not found or there is an error while reading\n",
        "\n",
        "# Define the path to your JSON file (e.g., ALLERGIES_FILE)\n",
        "ALLERGIES_FILE = 'allergies.json'"
      ]
    },
    {
      "cell_type": "code",
      "execution_count": 9,
      "metadata": {
        "id": "aGc1-o9RqNKi",
        "outputId": "86a0f0f4-7713-4e61-c6ef-f56bc2a94be8",
        "colab": {
          "base_uri": "https://localhost:8080/"
        }
      },
      "outputs": [
        {
          "output_type": "execute_result",
          "data": {
            "text/plain": [
              "2"
            ]
          },
          "metadata": {},
          "execution_count": 9
        }
      ],
      "source": [
        "patient_count(ALLERGIES_FILE)"
      ]
    },
    {
      "cell_type": "code",
      "execution_count": 10,
      "metadata": {
        "id": "Rb4W9Q26qNKi"
      },
      "outputs": [],
      "source": [
        "assert type(patient_count(ALLERGIES_FILE)) == int\n",
        "assert patient_count(ALLERGIES_FILE) == 2"
      ]
    },
    {
      "cell_type": "markdown",
      "metadata": {
        "id": "-iv_YzymqNKi"
      },
      "source": [
        "### 30.3 How Many Allergies per Patient\n",
        "\n",
        "Although each entry is a separate allergy, several of them are for the same patient.  Write a function called `allergy_per_patient(json_file)` that counts up how many allergies each patient has.\n"
      ]
    },
    {
      "cell_type": "code",
      "execution_count": 12,
      "metadata": {
        "id": "6vF9qKhNqNKi"
      },
      "outputs": [],
      "source": [
        "# Put your solution here\n",
        "import json\n",
        "\n",
        "def allergy_per_patient(json_file):\n",
        "  \"\"\"\n",
        "     (dict)->int\n",
        "     Here I have created a variable as events and I have run the for loop so that  i\n",
        "     loop over the enteries an I have put the if condition to access the certainity\n",
        "     from the entry so if the certainity is confirmed it adds up the events so that\n",
        "     we get to see how many allergies are recorded.\n",
        "\n",
        "     >>> type (allergy_per_patient(\"ALLERGIES_FILE.json\"))\n",
        "     dict\n",
        "\n",
        "     >>> allergy_per_patient(\"ALLERGIES_FILE.json\")\n",
        "     {'Paul Boal':1,'Jason Argonaut':3}\n",
        "    \"\"\"\n",
        "  try:\n",
        "      with open(json_file, 'r') as file:\n",
        "          data = json.load(file)\n",
        "          allergy_counts = {}  # Dictionary to store allergy counts per patient\n",
        "\n",
        "          if \"entry\" in data and isinstance(data[\"entry\"], list):\n",
        "            for entry in data[\"entry\"]:\n",
        "                  if \"resource\" in entry and \"patient\" in entry[\"resource\"]:\n",
        "                      patient_name = entry[\"resource\"][\"patient\"][\"display\"]\n",
        "\n",
        "                        # Check if the patient_name is already in the dictionary\n",
        "                      if patient_name in allergy_counts:\n",
        "                          allergy_counts[patient_name] += 1\n",
        "                      else:\n",
        "                          allergy_counts[patient_name] = 1\n",
        "            print(allergy_counts)\n",
        "          return allergy_counts\n",
        "  except FileNotFoundError:\n",
        "        return {}\n",
        "\n",
        "# Define the path to your JSON file (e.g., ALLERGIES_FILE)\n",
        "ALLERGIES_FILE = 'allergies.json'"
      ]
    },
    {
      "cell_type": "code",
      "execution_count": 13,
      "metadata": {
        "id": "I0OB0CixqNKi",
        "outputId": "1af86c19-8db8-45c4-8d87-4a30a1c354a1",
        "colab": {
          "base_uri": "https://localhost:8080/"
        }
      },
      "outputs": [
        {
          "output_type": "stream",
          "name": "stdout",
          "text": [
            "{'Jason Argonaut': 3, 'Paul Boal': 1}\n"
          ]
        },
        {
          "output_type": "execute_result",
          "data": {
            "text/plain": [
              "{'Jason Argonaut': 3, 'Paul Boal': 1}"
            ]
          },
          "metadata": {},
          "execution_count": 13
        }
      ],
      "source": [
        "allergy_per_patient(ALLERGIES_FILE)"
      ]
    },
    {
      "cell_type": "code",
      "execution_count": 14,
      "metadata": {
        "id": "6TAvUgkVqNKi",
        "outputId": "a47d0192-14a4-48c9-c590-5bd819db75eb",
        "colab": {
          "base_uri": "https://localhost:8080/"
        }
      },
      "outputs": [
        {
          "output_type": "stream",
          "name": "stdout",
          "text": [
            "{'Jason Argonaut': 3, 'Paul Boal': 1}\n",
            "{'Jason Argonaut': 3, 'Paul Boal': 1}\n"
          ]
        }
      ],
      "source": [
        "assert type(allergy_per_patient(ALLERGIES_FILE)) == dict\n",
        "assert allergy_per_patient(ALLERGIES_FILE) == {'Paul Boal': 1, 'Jason Argonaut': 3}"
      ]
    },
    {
      "cell_type": "markdown",
      "metadata": {
        "nbgrader": {
          "grade": false,
          "grade_id": "q2-question",
          "locked": true,
          "schema_version": 1,
          "solution": false
        },
        "id": "pQnGPl0oqNKj"
      },
      "source": [
        "### 30.4 Patient Allergies and Reaction\n",
        "\n",
        "You'll see in the file that each of the items in the `entry` list have several other attributes including a patient name, substance text representation, and a reaction manifestation.  Create a function named `allergy_list(json_file)` that will create an output list that has patient name, allergy, and reaction for each `entry`.  The actual result you should get will be:\n",
        "\n",
        "```python\n",
        "[['Jason Argonaut', 'PENICILLIN G', 'Hives'],\n",
        " ['Paul Boal', 'PENICILLIN G', 'Bruising'],\n",
        " ['Jason Argonaut', 'SHELLFISH-DERIVED PRODUCTS', 'Itching'],\n",
        " ['Jason Argonaut', 'STRAWBERRY', 'Anaphylaxis']]\n",
        "```\n",
        "\n",
        "You'll notice that the reaction and the manifestation of that action are lists.  You only need to capture the first reaction and the first manifestation of the action.  That is, if there is a list of things, just output the first one."
      ]
    },
    {
      "cell_type": "code",
      "execution_count": 15,
      "metadata": {
        "nbgrader": {
          "grade": false,
          "grade_id": "q2-answer",
          "locked": false,
          "schema_version": 1,
          "solution": true
        },
        "id": "7HHuV3CIqNKj"
      },
      "outputs": [],
      "source": [
        "# Put your solution here\n",
        "import json\n",
        "\n",
        "def allergy_list(json_file):\n",
        "    \"\"\"\n",
        "  (dict)->list\n",
        "  Here I have created a variable as events and I have run the for loop so that i\n",
        "  loop over the enteries an I have put the if conditions to access the certainity\n",
        "  from the entry so if the certainity is confirmed it adds up the event so that\n",
        "  we get to see how many allergies are recorded.\n",
        "\n",
        "  >>> type(allergy_list(\"ALLERGIES_FILE.json\"))\n",
        "\n",
        "   >>> allergy_list(ALLERGIES_FILE)\n",
        "   [['Jason Argonaut', 'PENICILLIN G', 'Hives'],\n",
        "   ['Jason Argonaut', 'SHELLFISH-DERIVED PRODUCTS', 'Itching'],\n",
        "   ['Jason Argonaut', 'STRAWBERRY', 'Anaphylaxis'],\n",
        "   ['Paul Boal', 'PENICILLIN G', 'Bruising']]\n",
        "   \"\"\"\n",
        "    try:\n",
        "        with open(json_file, 'r') as file:\n",
        "            data = json.load(file)\n",
        "            output_list = []\n",
        "\n",
        "            if \"entry\" in data and isinstance(data[\"entry\"], list):\n",
        "                for entry in data[\"entry\"]:\n",
        "                    if \"resource\" in entry and \"patient\" in entry[\"resource\"]:\n",
        "                        patient_name = entry[\"resource\"][\"patient\"][\"display\"]\n",
        "\n",
        "                        # Extract allergy and reaction information\n",
        "                        if \"substance\" in entry[\"resource\"] and \"text\" in entry[\"resource\"][\"substance\"]:\n",
        "                            allergy = entry[\"resource\"][\"substance\"][\"text\"]\n",
        "                        else:\n",
        "                            allergy = None\n",
        "\n",
        "                        if \"reaction\" in entry[\"resource\"] and isinstance(entry[\"resource\"][\"reaction\"], list):\n",
        "                            first_reaction = entry[\"resource\"][\"reaction\"][0][\"manifestation\"][0][\"text\"] if len(entry[\"resource\"][\"reaction\"]) > 0 and \"manifestation\" in entry[\"resource\"][\"reaction\"][0] else None\n",
        "                        else:\n",
        "                            first_reaction = None\n",
        "\n",
        "                        # Add the extracted information to the output list\n",
        "                        output_list.append([patient_name, allergy, first_reaction])\n",
        "\n",
        "            return output_list\n",
        "    except FileNotFoundError:\n",
        "        return []\n",
        "\n",
        "# Define the path to your JSON file (e.g., ALLERGIES_FILE)\n",
        "ALLERGIES_FILE = 'allergies.json'"
      ]
    },
    {
      "cell_type": "code",
      "execution_count": 16,
      "metadata": {
        "id": "pxBgP1yLqNKj",
        "outputId": "6de14398-de59-4b21-ba52-73ba0a3e98bd",
        "colab": {
          "base_uri": "https://localhost:8080/"
        }
      },
      "outputs": [
        {
          "output_type": "execute_result",
          "data": {
            "text/plain": [
              "[['Jason Argonaut', 'PENICILLIN G', 'Hives'],\n",
              " ['Jason Argonaut', 'SHELLFISH-DERIVED PRODUCTS', 'Itching'],\n",
              " ['Jason Argonaut', 'STRAWBERRY', 'Anaphylaxis'],\n",
              " ['Paul Boal', 'PENICILLIN G', 'Bruising']]"
            ]
          },
          "metadata": {},
          "execution_count": 16
        }
      ],
      "source": [
        "allergy_list(ALLERGIES_FILE)"
      ]
    },
    {
      "cell_type": "code",
      "execution_count": 17,
      "metadata": {
        "nbgrader": {
          "grade": true,
          "grade_id": "q2-tests",
          "locked": true,
          "points": 10,
          "schema_version": 1,
          "solution": false
        },
        "id": "4TMPVKLbqNKj"
      },
      "outputs": [],
      "source": [
        "assert allergy_list(ALLERGIES_FILE) == [['Jason Argonaut', 'PENICILLIN G', 'Hives'],\n",
        " ['Jason Argonaut', 'SHELLFISH-DERIVED PRODUCTS', 'Itching'],\n",
        " ['Jason Argonaut', 'STRAWBERRY', 'Anaphylaxis'],\n",
        " ['Paul Boal', 'PENICILLIN G', 'Bruising']]\n"
      ]
    },
    {
      "cell_type": "markdown",
      "metadata": {
        "nbgrader": {
          "grade": false,
          "grade_id": "q3-question",
          "locked": true,
          "schema_version": 1,
          "solution": false
        },
        "id": "QmPUyR8gqNKj"
      },
      "source": [
        "### 30.5 Allergy Reaction\n",
        "\n",
        "Write a function called `allergy_reaction(json_file,patient,substance)` that takes three parameter and returns the reaction that will happen if the patient takes the specified substance.  You can solve this, in part, by calling your `allergy_list` function inside your new `allergy_reaction` function.\n",
        "\n",
        "If the substance is not found in the allergy list, the function should return None."
      ]
    },
    {
      "cell_type": "code",
      "execution_count": 18,
      "metadata": {
        "nbgrader": {
          "grade": false,
          "grade_id": "q3-answer",
          "locked": false,
          "schema_version": 1,
          "solution": true
        },
        "id": "EKfVjzZaqNKj"
      },
      "outputs": [],
      "source": [
        "# Put your solution here\n",
        "def allergy_reaction(json_file, patient, substance):\n",
        "    \"\"\"\n",
        "  (dict)->str or None\n",
        "  Here I have created a variable as events and I have run the for loop so that i\n",
        "  loop over the enteries an I have put the if condition to access the certainity\n",
        "  from the entry so if the certainity is confirmed it adds up the events so that\n",
        "  we got to see how many allergies are recorded.\n",
        "\n",
        "  >>> type(allergy_reaction(\"ALLERGIES_FILE.json\"))\n",
        "\n",
        "  >>> allergy_reaction(ALLERGIES_FILE,'Jason Argonaut','PENICILLIN G')\n",
        "  Hives\n",
        "  >>> allergy_reaction(ALLERGIES_FILE,'Jason Argonaut','SHELLFISH-DERIVED PRODUCTS')\n",
        "  Itching\n",
        "\n",
        "  >>> allergy_reaction(ALLERGIES_FILE,'Jason Argonaut','STRAWBERRY')\n",
        "  Anaphylaxis\n",
        "\n",
        "  >>> allergy_reaction(ALLERGIES_FILE,'Jason Argonaut','PENICILLIN')\n",
        "  None\n",
        "\n",
        "  >>> allergy_reaction(ALLERGIES_FILE,'Paul Boal','PENICILLIN G')\n",
        "  Bruising\n",
        "  \"\"\"\n",
        "    allergy_data = allergy_list(json_file)\n",
        "\n",
        "    reaction = None\n",
        "\n",
        "    for entry in allergy_data:\n",
        "        entry_patient, entry_substance, entry_reaction =entry\n",
        "        if entry_patient == patient and entry_substance == substance:\n",
        "            reaction = entry_reaction\n",
        "    return reaction\n",
        "\n",
        "# Define the path to your JSON file (e.g., ALLERGIES_FILE)\n",
        "ALLERGIES_FILE = 'allergies.json'"
      ]
    },
    {
      "cell_type": "code",
      "execution_count": 19,
      "metadata": {
        "id": "_nDKYAOiqNKj",
        "outputId": "5caf89db-01bd-4cf5-cb24-23e4a97cdde1",
        "colab": {
          "base_uri": "https://localhost:8080/",
          "height": 35
        }
      },
      "outputs": [
        {
          "output_type": "execute_result",
          "data": {
            "text/plain": [
              "'Hives'"
            ],
            "application/vnd.google.colaboratory.intrinsic+json": {
              "type": "string"
            }
          },
          "metadata": {},
          "execution_count": 19
        }
      ],
      "source": [
        "allergy_reaction(ALLERGIES_FILE, 'Jason Argonaut', 'PENICILLIN G')"
      ]
    },
    {
      "cell_type": "code",
      "execution_count": 20,
      "metadata": {
        "nbgrader": {
          "grade": true,
          "grade_id": "q3-tests",
          "locked": true,
          "points": 5,
          "schema_version": 1,
          "solution": false
        },
        "id": "QFRE2EhzqNKj"
      },
      "outputs": [],
      "source": [
        "assert allergy_reaction(ALLERGIES_FILE, 'Jason Argonaut', 'PENICILLIN G') == 'Hives'\n",
        "assert allergy_reaction(ALLERGIES_FILE, 'Jason Argonaut', 'SHELLFISH-DERIVED PRODUCTS') == 'Itching'\n",
        "assert allergy_reaction(ALLERGIES_FILE, 'Jason Argonaut', 'STRAWBERRY') == 'Anaphylaxis'\n",
        "assert allergy_reaction(ALLERGIES_FILE, 'Jason Argonaut', 'PENICILLIN') == None\n",
        "assert allergy_reaction(ALLERGIES_FILE, 'Paul Boal', 'PENICILLIN G') == 'Bruising'"
      ]
    },
    {
      "cell_type": "markdown",
      "metadata": {
        "id": "fLSA0n60qNKj"
      },
      "source": [
        "---\n",
        "\n",
        "## Check your work above\n",
        "\n",
        "If you didn't get them all correct, take a few minutes to think through those that aren't correct.\n",
        "\n",
        "\n",
        "## Submitting Your Work\n",
        "\n",
        "In order to submit your work, you'll need to save this notebook file back to GitHub.  To do that in Google Colab:\n",
        "1. File -> Save a Copy in GitHub\n",
        "2. Make sure your HDS5210 repository is selected\n",
        "3. Make sure the file name includes the week number like this: `week06/week06_assignment_2.ipynb`\n",
        "4. Add a commit message that means something\n",
        "\n",
        "**Be sure week names are lowercase and use a two digit week number!!**\n",
        "\n",
        "**Be sure you use the same file name provided by the instructor!!**\n",
        "\n"
      ]
    }
  ],
  "metadata": {
    "celltoolbar": "Create Assignment",
    "kernelspec": {
      "display_name": "Python 3",
      "language": "python",
      "name": "python3"
    },
    "language_info": {
      "codemirror_mode": {
        "name": "ipython",
        "version": 3
      },
      "file_extension": ".py",
      "mimetype": "text/x-python",
      "name": "python",
      "nbconvert_exporter": "python",
      "pygments_lexer": "ipython3",
      "version": "3.9.16"
    },
    "colab": {
      "provenance": []
    }
  },
  "nbformat": 4,
  "nbformat_minor": 0
}