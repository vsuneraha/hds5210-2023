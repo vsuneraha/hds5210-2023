{
  "cells": [
    {
      "cell_type": "markdown",
      "metadata": {
        "id": "1E0ykn-hA8yB",
        "nbgrader": {
          "grade": false,
          "grade_id": "intro",
          "locked": true,
          "schema_version": 1,
          "solution": false
        }
      },
      "source": [
        "# Week 2 Review Exercises\n",
        "\n",
        "_McKinney 2.3_\n",
        "\n",
        "_Modules 4-6_\n",
        "\n",
        "This assignment is to be completed after watching the video lectures for modules 4 - 6.  Please review the content in those modules through Blackboard and then complete the review below as instructed.  When complete, there are instructions at the bottom of the exercise that will allow you to check your work and then submit it via github.com\n",
        "\n",
        "For each of the multiple choice quesitons below, do not change the variable name.  Only change the answer part to match whichever letter or letters are the correct answer.  \n",
        "\n",
        "For example, in the problem below, the correct answer is `D`, so you would provide the answer as show.\n",
        "\n",
        "---\n",
        "```\n",
        "0.1 Instructor's Name\n",
        "The correct spelling of this instructor's last name is:\n",
        " A) Bowl\n",
        " B) Bole\n",
        " C) Boll\n",
        " D) Boal\n",
        "```\n",
        "---\n",
        "```\n",
        "answer[\"0.1\"]=\"D\"\n",
        "```\n",
        "---\n",
        "\n",
        "Do not change anything else or add any other code to this notebook. If you need to do scratch work to determine an answer, create a new notebook and do your work there."
      ]
    },
    {
      "cell_type": "markdown",
      "metadata": {
        "id": "1P3oHFbeA8yD"
      },
      "source": [
        "---\n",
        "\n",
        "---"
      ]
    },
    {
      "cell_type": "markdown",
      "metadata": {
        "id": "st9jybqTA8yD"
      },
      "source": [
        "## Part 1: Multiple Choice\n",
        "\n",
        "For the multiple choice questions below, type in the letter of the best answer where indicated.  Contrary to the note above, this section won't tell you if you have the correct answers or not immediately."
      ]
    },
    {
      "cell_type": "markdown",
      "metadata": {
        "id": "Bi1q7jFQA8yD"
      },
      "source": [
        "### 1.1 Code Blocks\n",
        "\n",
        "Why is some code in Python indented from other lines of code?\n",
        "> A) To block code apart to designate it should only be executed at certain times\n",
        ">\n",
        "> B) Indented lines are treated like comments and not executed\n",
        ">\n",
        "> C) To specify that line of code should never be run\n",
        ">\n",
        "> D) The programmer can choose when to indent code to make it easier to read\n"
      ]
    },
    {
      "cell_type": "code",
      "execution_count": 1,
      "metadata": {
        "id": "txhgQtaOA8yD"
      },
      "outputs": [],
      "source": [
        "answers = {}\n",
        "answers[\"1.1\"] = \"A\""
      ]
    },
    {
      "cell_type": "markdown",
      "metadata": {
        "id": "xwZdZcVnA8yE"
      },
      "source": [
        "### 1.2 Python Versions\n",
        "\n",
        "Which statements about Python 2 and Python 3 are true?\n",
        "> A) For this class, we are only using Python 2\n",
        ">\n",
        "> B) Every line of code that runs in Python version 2 will run exactly as is in version 3\n",
        ">\n",
        "> C) Python version 2 and version 3 have some differences, but are mostly the same\n",
        ">\n",
        "> D) Python 3 is still in beta and not stable"
      ]
    },
    {
      "cell_type": "code",
      "execution_count": 2,
      "metadata": {
        "id": "27AvDkGrA8yE"
      },
      "outputs": [],
      "source": [
        "answers[\"1.2\"] = \"C\""
      ]
    },
    {
      "cell_type": "markdown",
      "metadata": {
        "id": "HBE-pblZA8yE"
      },
      "source": [
        "## 1.3 Python Syntax\n",
        "\n",
        "Comparing Python to other programming languages like C++, Java, R, and JavaScript, what is the key difference in syntax?\n",
        "> A) Other languages put quotation marks around variable names\n",
        ">\n",
        "> B) Python uses indenting to separate code blocks, other languages use curly brackets `{ }`\n",
        ">\n",
        "> C) Python can only run on Internet servers, other languages run on your laptop\n",
        ">\n",
        "> D) All of these langauges run faster than Python"
      ]
    },
    {
      "cell_type": "code",
      "execution_count": 3,
      "metadata": {
        "id": "PnaMXh67A8yE"
      },
      "outputs": [],
      "source": [
        "answers[\"1.3\"] = \"B\""
      ]
    },
    {
      "cell_type": "markdown",
      "metadata": {
        "id": "w5tjpp1jA8yE"
      },
      "source": [
        "### 2.1 Variables\n",
        "In the scenario below, which statments about the variables `a` and `b` are true.\n",
        "```\n",
        "a = [1, 2, 3]\n",
        "b = a\n",
        "```\n",
        "\n",
        "> A) `a` is a list object and `b` is a reference to variable `a`\n",
        ">\n",
        "> B) `a` and `b` both refer to a list object that has three elements\n",
        ">\n",
        "> C) `b` is a separate object that is a copy of `a`\n",
        ">\n",
        "> D) `b` refers to `a` which refers to a list object with three elements\n"
      ]
    },
    {
      "cell_type": "code",
      "execution_count": 4,
      "metadata": {
        "id": "YP3tkaf5A8yF"
      },
      "outputs": [],
      "source": [
        "answers[\"2.1\"] = \"B\""
      ]
    },
    {
      "cell_type": "markdown",
      "metadata": {
        "id": "f_Oz-cLcA8yF"
      },
      "source": [
        "### 2.2 Variable Names\n",
        "\n",
        "Which of the following is **NOT** true about how you should name variables?\n",
        "\n",
        "> A) Variable names have to be less than 5 characters in length\n",
        ">\n",
        "> B) Variable names can use abbreviations\n",
        ">\n",
        "> C) Variable names should be readable by humans\n",
        ">\n",
        "> D) Variable names represent a kind of documentation"
      ]
    },
    {
      "cell_type": "code",
      "execution_count": 5,
      "metadata": {
        "id": "yBmK_LrgA8yF"
      },
      "outputs": [],
      "source": [
        "answers[\"2.2\"] = \"A\""
      ]
    },
    {
      "cell_type": "markdown",
      "metadata": {
        "id": "VUViNdbWA8yF"
      },
      "source": [
        "### 2.3 Why Use Variables\n",
        "\n",
        "Based on the purpose and best practices for using variables in Python, which of the following lines of code represents the best use of variables?  The code in the example below is used to convert degrees Farenheit to degress Celsius.\n",
        "\n",
        "> A) `v2 = (v1 - 32) * 5/9`\n",
        ">\n",
        "> D) `temp_c = (temp_f - 32) * 5/9`\n",
        ">\n",
        "> B) `temperature_in_degrees_celsius = (temperature_in_degrees_farenheit - 32) * 5/9`\n",
        ">\n",
        "> C) `temp-celsius = (temp-farenheight - 32) * 5/9`"
      ]
    },
    {
      "cell_type": "code",
      "execution_count": 6,
      "metadata": {
        "id": "TNziE3W7A8yF"
      },
      "outputs": [],
      "source": [
        "answers[\"2.3\"] = \"D\""
      ]
    },
    {
      "cell_type": "markdown",
      "metadata": {
        "id": "jWETgZgWA8yF"
      },
      "source": [
        "### 3.1 Built-in Types\n",
        "\n",
        "Which of the following is NOT a standard built-in data types in base Python.\n",
        "\n",
        "> A) bool\n",
        ">\n",
        "> B) decimal\n",
        ">\n",
        "> C) float\n",
        ">\n",
        "> D) int\n",
        ">\n",
        "> E) None\n"
      ]
    },
    {
      "cell_type": "code",
      "execution_count": 7,
      "metadata": {
        "id": "FU2pVQqfA8yF"
      },
      "outputs": [],
      "source": [
        "answers[\"3.1\"] = \"B\""
      ]
    },
    {
      "cell_type": "markdown",
      "metadata": {
        "id": "HnqwaEQqA8yF"
      },
      "source": [
        "### 3.2 Strings\n",
        "\n",
        "Which is the proper way to create a multi-line string in a Python program?\n",
        "\n",
        "> A) Place `#` characters at the beginning of each line of the string\n",
        ">\n",
        "> B) Place triple-quotes (`'''` or `\"\"\"`) on the first line and last line of the multi-line string\n",
        ">\n",
        "> C) Start the string with a `'` or `\"` and then indent all of the subsquent lines until you place a `'` or `\"` at the end of the multi-line string\n",
        ">\n",
        "> D) You can't create multi-line strings in Python\n"
      ]
    },
    {
      "cell_type": "code",
      "execution_count": 8,
      "metadata": {
        "id": "u8U0w6UnA8yF"
      },
      "outputs": [],
      "source": [
        "answers[\"3.2\"] = \"B\""
      ]
    },
    {
      "cell_type": "markdown",
      "metadata": {
        "id": "Z2DrmjLhA8yF"
      },
      "source": [
        "### 3.3 Combining Data\n",
        "\n",
        "Which of the following is not a valid operation?\n",
        "\n",
        "> A) `'She is ' + 93 + ' years old.'`\n",
        ">\n",
        "> B) `'This is a ' + \"complete sentence.\"`\n",
        ">\n",
        "> C) `\"Repeat this! \" * 4`\n",
        ">\n",
        "> D) `3.14 * 7`"
      ]
    },
    {
      "cell_type": "code",
      "execution_count": 9,
      "metadata": {
        "id": "r73h2HwyA8yG"
      },
      "outputs": [],
      "source": [
        "answers[\"3.3\"] = \"A\""
      ]
    },
    {
      "cell_type": "markdown",
      "metadata": {
        "id": "U6HDLbJUA8yG"
      },
      "source": [
        "### 4.1 Math\n",
        "\n",
        "What will be the output of the following lines of code?  (Yes, I know that you can easily copy and paste this into another notebook and run it.  Please try to reason through it!)\n",
        "\n",
        "```python\n",
        "temp_c = 100\n",
        "temp_f = temp_c * 9//5 + 32\n",
        "temp_f\n",
        "```\n",
        "\n",
        "> A) 212\n",
        ">\n",
        "> B) 132\n",
        ">\n",
        "> C) 32\n",
        ">\n",
        "> D) 98.6"
      ]
    },
    {
      "cell_type": "code",
      "execution_count": 10,
      "metadata": {
        "id": "uY3QDwvPA8yG"
      },
      "outputs": [],
      "source": [
        "answers[\"4.1\"] = \"A\""
      ]
    },
    {
      "cell_type": "markdown",
      "metadata": {
        "id": "7svMbIIsA8yG"
      },
      "source": [
        "### 4.2 Yummy pi\n",
        "\n",
        "Which code represents the proper way to represent the mathematical expression $pi^2$ ?\n",
        "\n",
        "> A) `pi^2`\n",
        ">\n",
        "> B) `pi ** 2`\n",
        ">\n",
        "> C) `pi x pi`\n",
        ">\n",
        "> D| `pi | 2`"
      ]
    },
    {
      "cell_type": "code",
      "execution_count": 11,
      "metadata": {
        "id": "oUOJFhtlA8yG"
      },
      "outputs": [],
      "source": [
        "answers[\"4.2\"] = \"B\""
      ]
    },
    {
      "cell_type": "markdown",
      "metadata": {
        "id": "PkLgT5gFA8yG"
      },
      "source": [
        "---\n",
        "\n",
        "Checking Your Work\n",
        "---\n",
        "\n",
        "After completing your work above and running each cell, you can check your answers by running the code below.\n",
        "\n",
        "The easiest way to do this is to use the `Runtime` -> `Restart and run all` menu option. This option restarts Python and runs every cell from top to bottom until it encounters an exception of some kind.\n"
      ]
    },
    {
      "cell_type": "code",
      "execution_count": 12,
      "metadata": {
        "colab": {
          "base_uri": "https://localhost:8080/"
        },
        "id": "_DeJ6UEPIywx",
        "outputId": "a52c32e0-9ab6-4214-99c4-ab44ce6671ef"
      },
      "outputs": [
        {
          "output_type": "stream",
          "name": "stdout",
          "text": [
            "Requirement already satisfied: httpimport in /usr/local/lib/python3.10/dist-packages (1.3.1)\n",
            "Collecting boto3\n",
            "  Downloading boto3-1.28.45-py3-none-any.whl (135 kB)\n",
            "\u001b[2K     \u001b[90m━━━━━━━━━━━━━━━━━━━━━━━━━━━━━━━━━━━━━━━\u001b[0m \u001b[32m135.8/135.8 kB\u001b[0m \u001b[31m2.4 MB/s\u001b[0m eta \u001b[36m0:00:00\u001b[0m\n",
            "\u001b[?25hCollecting botocore<1.32.0,>=1.31.45 (from boto3)\n",
            "  Downloading botocore-1.31.45-py3-none-any.whl (11.2 MB)\n",
            "\u001b[2K     \u001b[90m━━━━━━━━━━━━━━━━━━━━━━━━━━━━━━━━━━━━━━━━\u001b[0m \u001b[32m11.2/11.2 MB\u001b[0m \u001b[31m83.2 MB/s\u001b[0m eta \u001b[36m0:00:00\u001b[0m\n",
            "\u001b[?25hCollecting jmespath<2.0.0,>=0.7.1 (from boto3)\n",
            "  Downloading jmespath-1.0.1-py3-none-any.whl (20 kB)\n",
            "Collecting s3transfer<0.7.0,>=0.6.0 (from boto3)\n",
            "  Downloading s3transfer-0.6.2-py3-none-any.whl (79 kB)\n",
            "\u001b[2K     \u001b[90m━━━━━━━━━━━━━━━━━━━━━━━━━━━━━━━━━━━━━━━━\u001b[0m \u001b[32m79.8/79.8 kB\u001b[0m \u001b[31m9.2 MB/s\u001b[0m eta \u001b[36m0:00:00\u001b[0m\n",
            "\u001b[?25hRequirement already satisfied: python-dateutil<3.0.0,>=2.1 in /usr/local/lib/python3.10/dist-packages (from botocore<1.32.0,>=1.31.45->boto3) (2.8.2)\n",
            "Collecting urllib3<1.27,>=1.25.4 (from botocore<1.32.0,>=1.31.45->boto3)\n",
            "  Downloading urllib3-1.26.16-py2.py3-none-any.whl (143 kB)\n",
            "\u001b[2K     \u001b[90m━━━━━━━━━━━━━━━━━━━━━━━━━━━━━━━━━━━━━━\u001b[0m \u001b[32m143.1/143.1 kB\u001b[0m \u001b[31m16.7 MB/s\u001b[0m eta \u001b[36m0:00:00\u001b[0m\n",
            "\u001b[?25hRequirement already satisfied: six>=1.5 in /usr/local/lib/python3.10/dist-packages (from python-dateutil<3.0.0,>=2.1->botocore<1.32.0,>=1.31.45->boto3) (1.16.0)\n",
            "Installing collected packages: urllib3, jmespath, botocore, s3transfer, boto3\n",
            "  Attempting uninstall: urllib3\n",
            "    Found existing installation: urllib3 2.0.4\n",
            "    Uninstalling urllib3-2.0.4:\n",
            "      Successfully uninstalled urllib3-2.0.4\n",
            "Successfully installed boto3-1.28.45 botocore-1.31.45 jmespath-1.0.1 s3transfer-0.6.2 urllib3-1.26.16\n",
            "=============================================\n",
            "== RESULTS for vsuneraha@slu.edu\n",
            "=============================================\n",
            "   Q#               Yours  Correct?\n",
            "  1.1                   A        OK\n",
            "  1.2                   C        OK\n",
            "  1.3                   B        OK\n",
            "  2.1                   B        OK\n",
            "  2.2                   A        OK\n",
            "  2.3                   D        OK\n",
            "  3.1                   B        OK\n",
            "  3.2                   B        OK\n",
            "  3.3                   A        OK\n",
            "  4.1                   A        OK\n",
            "  4.2                   B        OK\n"
          ]
        }
      ],
      "source": [
        "!pip install httpimport\n",
        "!pip install boto3\n",
        "import httpimport\n",
        "with httpimport.remote_repo('https://gist.githubusercontent.com/paulboal/f14bead2d24fcb9499f4de4607908824/raw/4c3c0e75ea1510bb090bada047372954160e64d4'):\n",
        "    import checker\n",
        "\n",
        "checker.check_hds5210(answers, 'week02')"
      ]
    },
    {
      "cell_type": "markdown",
      "metadata": {
        "id": "IPSJF9GmA8yH"
      },
      "source": [
        "---\n",
        "\n",
        "## Check your work above\n",
        "\n",
        "If you didn't get them all correct, take a few minutes to think through those that aren't correct.\n",
        "\n",
        "\n",
        "## Submitting Your Work\n",
        "\n",
        "In order to submit your work, you'll need to save this notebook file back to GitHub.  To do that in Google Colab:\n",
        "1. File -> Save a Copy in GitHub\n",
        "2. Make sure your HDS5210 repository is selected\n",
        "3. Make sure the file name includes the week number like this: `week02/week02_assignment_1.ipynb`\n",
        "4. Add a commit message that means something\n",
        "\n",
        "**Be sure week names are lowercase and use a two digit week number!!**\n",
        "\n",
        "**Be sure you use the same file name provided by the instructor!!**\n",
        "\n"
      ]
    }
  ],
  "metadata": {
    "celltoolbar": "Create Assignment",
    "colab": {
      "provenance": []
    },
    "kernelspec": {
      "display_name": "Python 3",
      "language": "python",
      "name": "python3"
    },
    "language_info": {
      "codemirror_mode": {
        "name": "ipython",
        "version": 3
      },
      "file_extension": ".py",
      "mimetype": "text/x-python",
      "name": "python",
      "nbconvert_exporter": "python",
      "pygments_lexer": "ipython3",
      "version": "3.9.16"
    }
  },
  "nbformat": 4,
  "nbformat_minor": 0
}