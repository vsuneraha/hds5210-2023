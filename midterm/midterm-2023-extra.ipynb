{
  "cells": [
    {
      "cell_type": "markdown",
      "metadata": {
        "id": "3OnLY7I_Bz1t"
      },
      "source": [
        "# Extra Credit\n",
        "\n",
        "For upto an additional 15 extra credit points on the midterm exam, you can write another function that applies additional criteria on top of what the midterm already did.  To earn the addition points, you need write a function called `summarize_results(patients)` to take the output of your  `process_people()` function to apply a new business rule and summarize the results.\n",
        "\n",
        "* Your function should take the dictionary created by `process_people()` as it's one input parameter: `patients`.\n",
        "* If the PRIEST probably is less than 10%, change the `hospital` and `address` to both have a value of `'Home'` indicating patients with a lower probability of an adverse outcome can just go home rather than be admitted to a hospital.\n",
        "* Summarize those results and count how many patients are now being sent to each location.  Your result should have the following format:\n",
        "```\n",
        "{\n",
        "    \"Home\": 123,\n",
        "    \"Hospital A\": 10,\n",
        "    \"Hospital B\": 20,\n",
        "    \"Hospital C\": 30\n",
        "}\n",
        "```\n",
        "\n",
        "As always, your function needs good docstrings; but does not require any doctests in this case."
      ]
    },
    {
      "cell_type": "code",
      "execution_count": 3,
      "metadata": {
        "id": "yCIgFs3bBz1w"
      },
      "outputs": [],
      "source": [
        "def summarize_results(patients):\n",
        "    \"\"\"\n",
        "    Description:\n",
        "    This summarize_results(pateints) takes input as patients and categorizes patients based on risk probability and provides a hospital count dictionary.\n",
        "\n",
        "    Parameters:\n",
        "    patients (dict): Patient data including risk probability and hospital information.\n",
        "\n",
        "    Returns:\n",
        "    dict: Returns a dictionary contains count of patients are now being sent to each location of hospital.\n",
        "    \"\"\"\n",
        "\n",
        "    result = {}\n",
        "    for key, value in patients.items():\n",
        "        if value[10]<0.1:\n",
        "            patients[key][11]=\"Home\"\n",
        "            patients[key][12]=\"Home\"\n",
        "\n",
        "    listOfHospitals = set()\n",
        "\n",
        "    for key, value in patients.items():\n",
        "        list = value[11]\n",
        "        listOfHospitals.add(list)\n",
        "\n",
        "    i = iter(listOfHospitals)\n",
        "    val = next(i, None)\n",
        "    while val is not None:\n",
        "      result[val] = 0\n",
        "      val = next(i, None)\n",
        "\n",
        "    for val in listOfHospitals:\n",
        "        for key, value in patients.items():\n",
        "            if val == value[11]:\n",
        "                result[val] =  result[val] + 1\n",
        "\n",
        "    return result"
      ]
    },
    {
      "cell_type": "code",
      "execution_count": 3,
      "metadata": {
        "id": "RDre9fMlBz1w"
      },
      "outputs": [],
      "source": []
    }
  ],
  "metadata": {
    "kernelspec": {
      "display_name": ".venv",
      "language": "python",
      "name": "python3"
    },
    "language_info": {
      "codemirror_mode": {
        "name": "ipython",
        "version": 3
      },
      "file_extension": ".py",
      "mimetype": "text/x-python",
      "name": "python",
      "nbconvert_exporter": "python",
      "pygments_lexer": "ipython3",
      "version": "3.9.16"
    },
    "colab": {
      "provenance": []
    }
  },
  "nbformat": 4,
  "nbformat_minor": 0
}