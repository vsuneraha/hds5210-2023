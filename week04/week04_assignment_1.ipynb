{
  "cells": [
    {
      "cell_type": "markdown",
      "metadata": {
        "nbgrader": {
          "grade": false,
          "grade_id": "intro",
          "locked": true,
          "schema_version": 1,
          "solution": false
        },
        "id": "E5CkaLrStpTB"
      },
      "source": [
        "# Week 4 Exercises\n",
        "\n",
        "_modules 13-15_\n",
        "\n",
        "_See also [documentation on standard data types](https://docs.python.org/3/library/stdtypes.html)_\n",
        "\n",
        "Modules 13 through 15 have all been about different built-in data types that can be used to create larger and more complex data structures.  We learned about tuples, lists, dictionaries, and how to access and process that data in new ways.\n",
        "\n",
        "\n",
        "\n",
        "Do not change anything else or add any other code to this notebook. If you need to do scratch work to determine an answer, create a new notebook and do your work there.\n",
        "\n",
        "---\n",
        "---"
      ]
    },
    {
      "cell_type": "markdown",
      "metadata": {
        "id": "7Ue3TWZxtpTD"
      },
      "source": [
        "### 13.1 Which of the following statements are true?\n",
        "\n",
        "Placeholders for two answers are provided, but there may be more correction options.\n",
        "> A) The elements in both Tuples and Lists have a specific order\n",
        ">\n",
        "> B) Tuples and Lists can both be nested\n",
        ">\n",
        "> C) A Tuple can be concatenated to another Tuple using the `+` operator\n",
        ">\n",
        "> D) Tuples and Lists can both have items appended to their ends\n",
        "\n"
      ]
    },
    {
      "cell_type": "code",
      "execution_count": 29,
      "metadata": {
        "id": "pIzv9WK7tpTD"
      },
      "outputs": [],
      "source": [
        "answers = {}\n",
        "answers[\"13.1\"] = [\"A\",\"B\",\"D\"]"
      ]
    },
    {
      "cell_type": "markdown",
      "metadata": {
        "id": "A4p2S3N3tpTE"
      },
      "source": [
        "### 13.2 What does this code output?\n",
        "\n",
        "```python\n",
        "(a, b) = ('First', 'Second')\n",
        "(b, a) = (a, b)\n",
        "print(b)\n",
        "```\n",
        "\n",
        "> A) `First`\n",
        ">\n",
        "> B) `Second`\n",
        ">\n",
        "> C) `('First', 'Second')`\n",
        ">\n",
        "> D) _nothing_"
      ]
    },
    {
      "cell_type": "code",
      "execution_count": 30,
      "metadata": {
        "id": "pCUMuHvgtpTE"
      },
      "outputs": [],
      "source": [
        "answers[\"13.2\"] = \"A\""
      ]
    },
    {
      "cell_type": "markdown",
      "metadata": {
        "id": "jgrpIR4atpTE"
      },
      "source": [
        "### 13.3 What is the output of the following code?\n",
        "\n",
        "```python\n",
        "(a, b) = (['Paul','Alex','Linda','Kathy','Amit','Samira'], [41, 38, 30, 43, 41, 40, 34, 52])\n",
        "len(b)\n",
        "```\n",
        "\n",
        "> A) _Error_\n",
        ">\n",
        "> B) `6`\n",
        ">\n",
        "> C) `8`\n",
        ">\n",
        "> D) _None_"
      ]
    },
    {
      "cell_type": "code",
      "execution_count": 31,
      "metadata": {
        "id": "17WG2VkHtpTE"
      },
      "outputs": [],
      "source": [
        "answers[\"13.3\"] = \"C\""
      ]
    },
    {
      "cell_type": "markdown",
      "metadata": {
        "id": "DZ886cJ_tpTE"
      },
      "source": [
        "### 13.4 What is the output of the following code?\n",
        "\n",
        "```python\n",
        "(a, b) = (['Paul','Alex','Linda','Kathy','Amit','Samira'], [41, 38, 30, 43, 41, 40, 34, 52])\n",
        "len(a[5])\n",
        "```\n",
        "\n",
        "> A) `4`\n",
        ">\n",
        "> B) `5`\n",
        ">\n",
        "> C) `6`\n",
        ">\n",
        "> D) _None_"
      ]
    },
    {
      "cell_type": "code",
      "execution_count": 32,
      "metadata": {
        "id": "PjxsUfL1tpTE"
      },
      "outputs": [],
      "source": [
        "answers[\"13.4\"] = \"C\""
      ]
    },
    {
      "cell_type": "markdown",
      "metadata": {
        "id": "cEx7uwHutpTE"
      },
      "source": [
        "### 13.5 What is the output from the code below?\n",
        "\n",
        "```python\n",
        "dxs = [['COPD','CHF','MI'],['DVT','DBS'],['GI','CNC']]\n",
        "len(dxs[1])\n",
        "```\n",
        "\n",
        "> A) _Error_\n",
        ">\n",
        "> B) `3`\n",
        ">\n",
        "> C) `2`\n",
        ">\n",
        "> D) _None_"
      ]
    },
    {
      "cell_type": "code",
      "execution_count": 33,
      "metadata": {
        "id": "1hy-UcxGtpTF"
      },
      "outputs": [],
      "source": [
        "answers[\"13.5\"] = \"C\""
      ]
    },
    {
      "cell_type": "markdown",
      "metadata": {
        "id": "8sDS4eultpTF"
      },
      "source": [
        "### 13.6 What will the resulting value of `vals` be?\n",
        "\n",
        "```python\n",
        "vals = [3.14, 1.41]\n",
        "vals.append([2.72])\n",
        "vals = vals + ['i']\n",
        "```\n",
        "\n",
        "> A) `[3.14, 1.41, 2.72, ['i']]`\n",
        ">\n",
        "> B) `[3.14, 1.41, [2.72], 'i']`\n",
        ">\n",
        "> C) `[3.14, 1.41, [2.72], ['i']]`\n",
        ">\n",
        "> D) `[3.14, 1.41, [2.72, 'i']`"
      ]
    },
    {
      "cell_type": "code",
      "execution_count": 34,
      "metadata": {
        "id": "hgJVn441tpTF"
      },
      "outputs": [],
      "source": [
        "answers[\"13.6\"] = \"B\""
      ]
    },
    {
      "cell_type": "markdown",
      "metadata": {
        "id": "WujiMfcgtpTF"
      },
      "source": [
        "### 13.7 Which of the following statements are correct?\n",
        "\n",
        "Placeholders for two options are provided, but there may be more correct answers.\n",
        "> A) Lists can have other lists inside them\n",
        ">\n",
        "> B) When you create a list, you must specify how big it will be\n",
        ">\n",
        "> C) The items in a list do not have a specific order\n",
        ">\n",
        "> D) list.sort() will sort the list in place without creating a copy"
      ]
    },
    {
      "cell_type": "code",
      "execution_count": 35,
      "metadata": {
        "id": "Z5pRnz7xtpTF"
      },
      "outputs": [],
      "source": [
        "answers[\"13.7\"] = [\"A\",\"D\"]"
      ]
    },
    {
      "cell_type": "markdown",
      "metadata": {
        "id": "-lBGVslktpTF"
      },
      "source": [
        "### 14.1 When you retrieve items from a dictionary in a **for** loop, in what order are they processed?\n",
        "\n",
        "> A) An arbitary order that is the same each time as long as the dictionary doesn't change\n",
        ">\n",
        "> B) Always in ascending order\n",
        ">\n",
        "> C) Always in descending order\n",
        ">\n",
        "> D) A different order that is completely random each time"
      ]
    },
    {
      "cell_type": "code",
      "execution_count": 36,
      "metadata": {
        "id": "YWDBxMG9tpTF"
      },
      "outputs": [],
      "source": [
        "answers[\"14.1\"] = ['A']"
      ]
    },
    {
      "cell_type": "markdown",
      "metadata": {
        "id": "Z2hgnfqltpTF"
      },
      "source": [
        "### 14.2 What data types can be used for dictionary *keys*?\n",
        "\n",
        "Two placeholders are provided, but more answers may be correct and should be included.\n",
        "> A) Strings\n",
        ">\n",
        "> B) Integers\n",
        ">\n",
        "> C) Floats\n",
        ">\n",
        "> D) Typles"
      ]
    },
    {
      "cell_type": "code",
      "execution_count": 37,
      "metadata": {
        "id": "8T3gHshltpTF"
      },
      "outputs": [],
      "source": [
        "answers[\"14.2\"] = ['A','B','C','D']"
      ]
    },
    {
      "cell_type": "markdown",
      "metadata": {
        "id": "--3f-hT8tpTF"
      },
      "source": [
        "### 14.3 Which of the following statements are correct?\n",
        "\n",
        "Two placeholders are provided, but more answers may be correct and should be included.\n",
        "> A) Dictionaries can contain lists\n",
        ">\n",
        "> B) Lists can contain dictionaries\n",
        ">\n",
        "> C) All dictionary keys must be strings\n",
        ">\n",
        "> D) Dictionaries can contain multiple entries for the same key"
      ]
    },
    {
      "cell_type": "code",
      "execution_count": 38,
      "metadata": {
        "id": "4GWs9ugdtpTF"
      },
      "outputs": [],
      "source": [
        "answers[\"14.3\"] = [\"A\",\"B\"]"
      ]
    },
    {
      "cell_type": "markdown",
      "metadata": {
        "id": "hJJhg3VltpTF"
      },
      "source": [
        "### 14.4 When you enter your answers for this homework, what is the data type of the `answers` variable?\n",
        "\n",
        "> A) String\n",
        ">\n",
        "> B) Dictionary\n",
        ">\n",
        "> C) List\n",
        ">\n",
        "> D) Tuple\n"
      ]
    },
    {
      "cell_type": "code",
      "execution_count": 39,
      "metadata": {
        "id": "S5hA6HzxtpTG"
      },
      "outputs": [],
      "source": [
        "answers[\"14.4\"] = \"B\""
      ]
    },
    {
      "cell_type": "markdown",
      "metadata": {
        "id": "5Sy3qBhPtpTG"
      },
      "source": [
        "---\n",
        "\n",
        "Checking Your Work\n",
        "---\n",
        "\n",
        "After completing your work above and running each cell, you can check your answers by running the code below.\n",
        "\n",
        "The easiest way to do this is to use the `Kernel` -> `Restart Kernel and Run All Cells` menu option. This option restarts Python and runs every cell from top to bottom until it encounters an exception of some kind.  It will stop after running the cell below and outputing a summary of how many answers you have correct or incorrect.\n"
      ]
    },
    {
      "cell_type": "code",
      "execution_count": 40,
      "metadata": {
        "id": "6dPSR0bytpTG",
        "outputId": "d8b430a7-0ac4-4f28-e166-ebbc4c347e9d",
        "colab": {
          "base_uri": "https://localhost:8080/"
        }
      },
      "outputs": [
        {
          "output_type": "stream",
          "name": "stdout",
          "text": [
            "Requirement already satisfied: boto3 in /usr/local/lib/python3.10/dist-packages (1.28.54)\n",
            "Requirement already satisfied: botocore<1.32.0,>=1.31.54 in /usr/local/lib/python3.10/dist-packages (from boto3) (1.31.54)\n",
            "Requirement already satisfied: jmespath<2.0.0,>=0.7.1 in /usr/local/lib/python3.10/dist-packages (from boto3) (1.0.1)\n",
            "Requirement already satisfied: s3transfer<0.7.0,>=0.6.0 in /usr/local/lib/python3.10/dist-packages (from boto3) (0.6.2)\n",
            "Requirement already satisfied: python-dateutil<3.0.0,>=2.1 in /usr/local/lib/python3.10/dist-packages (from botocore<1.32.0,>=1.31.54->boto3) (2.8.2)\n",
            "Requirement already satisfied: urllib3<1.27,>=1.25.4 in /usr/local/lib/python3.10/dist-packages (from botocore<1.32.0,>=1.31.54->boto3) (1.26.16)\n",
            "Requirement already satisfied: six>=1.5 in /usr/local/lib/python3.10/dist-packages (from python-dateutil<3.0.0,>=2.1->botocore<1.32.0,>=1.31.54->boto3) (1.16.0)\n",
            "=============================================\n",
            "== RESULTS for vsuneraha@slu.edu\n",
            "=============================================\n",
            "   Q#               Yours  Correct?\n",
            "\u001b[49m 13.1     ['A', 'B', 'D']        NO\u001b[m **\n",
            " 13.2                   A        OK\n",
            " 13.3                   C        OK\n",
            " 13.4                   C        OK\n",
            " 13.5                   C        OK\n",
            " 13.6                   B        OK\n",
            " 13.7          ['A', 'D']        OK\n",
            " 14.1               ['A']        OK\n",
            " 14.2['A', 'B', 'C', 'D']        OK\n",
            " 14.3          ['A', 'B']        OK\n",
            " 14.4                   B        OK\n"
          ]
        }
      ],
      "source": [
        "!pip install boto3\n",
        "import httpimport\n",
        "with httpimport.remote_repo('https://gist.githubusercontent.com/paulboal/f14bead2d24fcb9499f4de4607908824/raw/4c3c0e75ea1510bb090bada047372954160e64d4'):\n",
        "    import checker\n",
        "\n",
        "checker.check_hds5210(answers, 'week04')"
      ]
    },
    {
      "cell_type": "markdown",
      "metadata": {
        "id": "43f7badhtpTG"
      },
      "source": [
        "---\n",
        "\n",
        "## Check your work above\n",
        "\n",
        "If you didn't get them all correct, take a few minutes to think through those that aren't correct.\n",
        "\n",
        "\n",
        "## Submitting Your Work\n",
        "\n",
        "In order to submit your work, you'll need to save this notebook file back to GitHub.  To do that in Google Colab:\n",
        "1. File -> Save a Copy in GitHub\n",
        "2. Make sure your HDS5210 repository is selected\n",
        "3. Make sure the file name includes the week number like this: `week02/week02_assignment_1.ipynb`\n",
        "4. Add a commit message that means something\n",
        "\n",
        "**Be sure week names are lowercase and use a two digit week number!!**\n",
        "\n",
        "**Be sure you use the same file name provided by the instructor!!**\n",
        "\n"
      ]
    }
  ],
  "metadata": {
    "celltoolbar": "Create Assignment",
    "kernelspec": {
      "display_name": "Python 3",
      "language": "python",
      "name": "python3"
    },
    "language_info": {
      "codemirror_mode": {
        "name": "ipython",
        "version": 3
      },
      "file_extension": ".py",
      "mimetype": "text/x-python",
      "name": "python",
      "nbconvert_exporter": "python",
      "pygments_lexer": "ipython3",
      "version": "3.6.7"
    },
    "colab": {
      "provenance": []
    }
  },
  "nbformat": 4,
  "nbformat_minor": 0
}