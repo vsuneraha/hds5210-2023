{
  "cells": [
    {
      "cell_type": "markdown",
      "metadata": {
        "nbgrader": {
          "grade": false,
          "grade_id": "intro",
          "locked": true,
          "schema_version": 1,
          "solution": false
        },
        "id": "P9kX6MGmqaTm"
      },
      "source": [
        "# Week 5 Exercises\n",
        "\n",
        "_McKinney 3.2_\n",
        "\n",
        "**Unlike in previous weeks, in the exercises below, you will need to create a function definition from scratch.  I'll provide specific instructions and examples for how it will be used, but you will have to do the work of definiging the whole function.**\n",
        "\n",
        "---\n",
        "---"
      ]
    },
    {
      "cell_type": "markdown",
      "metadata": {
        "nbgrader": {
          "grade": false,
          "grade_id": "longest",
          "locked": true,
          "schema_version": 1,
          "solution": false
        },
        "id": "EJrWlS1IqaTn"
      },
      "source": [
        "### 25.1 Longest String\n",
        "\n",
        "Write a function called `longest (L)` that takes as its only parameter a list of strings.  Your function needs to find the longest of those strings and return the position number of that longest string.  An example is provided below:\n",
        "\n",
        "The longest word in that list of strings is \"birthday\" in position #1, so `longest(strings)` should return 1.\n",
        "```\n",
        ">>> strings = ['happy', 'birthday', 'to', 'me']\n",
        ">>> longest(strings)\n",
        "1\n",
        "```\n",
        "\n",
        "Be sure to include a docstring.  Include test cases in your docstring if you want to."
      ]
    },
    {
      "cell_type": "code",
      "execution_count": 1,
      "metadata": {
        "nbgrader": {
          "grade": false,
          "grade_id": "longest-answer",
          "locked": false,
          "schema_version": 1,
          "solution": true
        },
        "id": "ilNUmRUsqaTo"
      },
      "outputs": [],
      "source": [
        "### BEGIN SOLUTION\n",
        "\"\"\"\n",
        "    Find the index of the longest word in a list of words.\n",
        "\n",
        "    Parameter:\n",
        "    -words (list): A List of words.\n",
        "\n",
        "    Returns:\n",
        "    -int: Index of the longest word in the list.\n",
        "\"\"\"\n",
        "def longest (words):\n",
        "  li=[len(i) for i in words]\n",
        "  long_index= li.index(max(li))\n",
        "  return(long_index)\n",
        "\n",
        "### END SOLUTION"
      ]
    },
    {
      "cell_type": "code",
      "execution_count": 2,
      "metadata": {
        "nbgrader": {
          "grade": true,
          "grade_id": "longest-tests",
          "locked": true,
          "points": 10,
          "schema_version": 1,
          "solution": false
        },
        "id": "Eirj9Jx9qaTp"
      },
      "outputs": [],
      "source": [
        "assert longest(\"happy birthday to me\".split(\" \")) == 1\n",
        "assert longest(\"enjoy class\".split(\" \")) == 0\n",
        "assert longest(['when','what','where','how','who']) == 2"
      ]
    },
    {
      "cell_type": "code",
      "execution_count": 3,
      "metadata": {
        "id": "g7aZVngdqaTp",
        "outputId": "3580adee-48e2-4023-d4ca-1f850c112839",
        "colab": {
          "base_uri": "https://localhost:8080/"
        }
      },
      "outputs": [
        {
          "output_type": "stream",
          "name": "stdout",
          "text": [
            "Finding tests in NoName\n"
          ]
        }
      ],
      "source": [
        "import doctest\n",
        "doctest.run_docstring_examples(longest, globals(), verbose=True)"
      ]
    },
    {
      "cell_type": "markdown",
      "metadata": {
        "id": "azcfwDrqqaTp"
      },
      "source": [
        "### 25.2 Farenheit to Celsius\n",
        "\n",
        "Write a function called f_to_c() that converts a given temperature in degrees Farenheit to degrees Celsius.  If you don't recall that conversion, it is:\n",
        "\n",
        "$ temp_c = \\frac{5}{9} \\times (temp_f - 32) $\n",
        "\n",
        "Make sure that you code is well documented using the DocString examples, and that your code includes tests for 212f, 32f, and 98.6f."
      ]
    },
    {
      "cell_type": "code",
      "execution_count": 4,
      "metadata": {
        "id": "T1NdcybwqaTp"
      },
      "outputs": [],
      "source": [
        "### BEGIN SOLUTION\n",
        "\"\"\"\n",
        "   Convert a temperature from Fahrenheit to celsius.\n",
        "\n",
        "   Parameter:\n",
        "   -temperature_in_fahrenheit(float):Temperature value in Fahrenheit.\n",
        "\n",
        "   Returns:\n",
        "   -float;Temperature value convert to celsius.\n",
        "\n",
        "   Formula:\n",
        "   Celsius = 5/9 * (Fahrenheit-32)\n",
        "\"\"\"\n",
        "def f_to_c(temperature_in_Fahrenheit):\n",
        "  temperature_in_celsius=5/9*(temperature_in_Fahrenheit-32)\n",
        "  return temperature_in_celsius\n",
        "\n",
        "### END SOLUTION"
      ]
    },
    {
      "cell_type": "code",
      "execution_count": 5,
      "metadata": {
        "id": "y3OBCFmBqaTp"
      },
      "outputs": [],
      "source": [
        "assert f_to_c(212) == 100.0\n",
        "assert f_to_c(32) == 0.0\n",
        "assert f_to_c(98.6) == 37.0"
      ]
    },
    {
      "cell_type": "code",
      "execution_count": 6,
      "metadata": {
        "id": "99eoB_L2qaTq",
        "outputId": "04e2b8be-9ebf-4982-b33a-66a49ec12a1b",
        "colab": {
          "base_uri": "https://localhost:8080/"
        }
      },
      "outputs": [
        {
          "output_type": "stream",
          "name": "stdout",
          "text": [
            "Finding tests in NoName\n"
          ]
        }
      ],
      "source": [
        "import doctest\n",
        "doctest.run_docstring_examples(f_to_c, globals(), verbose=True)"
      ]
    },
    {
      "cell_type": "markdown",
      "metadata": {
        "id": "8gfAdCuCqaTq"
      },
      "source": [
        "### 25.3 Computing Length of Stay\n",
        "\n",
        "For this problem, we have a collection of patient enounter data stored as a Python dictionary.  The `key` for the dictionary is the **encounter ID**, a code that starts with the letter `E` followed by four numbers.  The value associated with each encounter ID is another Python dictionary.  This \"inner\" dictionary holds three items: admit date, primary diagnosis, and discharge date.  See the example in the code below.\n",
        "\n",
        "You need to write a length of stay function that computes the length of stay, in whole days, between the admit date and discharge date.  However, if the diagnosis is \"Observation\" then the length of stay should always be returned as 0 regardless of the admit and discharge dates. Your function should should take three parameters: a start date, an end date, and a diagnosis.\n",
        "\n",
        "You will find it handy to refer to this example here on how to calculate the number of days between two dates: https://stackoverflow.com/questions/151199/how-to-calculate-number-of-days-between-two-given-dates"
      ]
    },
    {
      "cell_type": "code",
      "execution_count": 8,
      "metadata": {
        "id": "vMx9y72LqaTq"
      },
      "outputs": [],
      "source": [
        "from datetime import date\n",
        "\n",
        "### BEGIN SOLUTION\n",
        "\"\"\"\n",
        "   Calculate the Length of stay (LOS) in days for a medical encounter.\n",
        "\n",
        "   Parameter:\n",
        "   -admit_date (datetime.date):The date of admission.\n",
        "   -discharge_date (datetime.date): The date of discharge.\n",
        "   -diagnosis (str): The diagnosis for the medical encounter.\n",
        "\n",
        "   Returns:\n",
        "   -int:Length of stay in days.Return 0 if the diagnosis is \"Observation\".\n",
        "\"\"\"\n",
        "def los(admit_date,discharge_date,diagnosis):\n",
        "  if diagnosis== \"Observation\":\n",
        "    return 0\n",
        "  else:\n",
        "    delta = discharge_date- admit_date\n",
        "    return delta.days\n",
        "\n",
        "### END SOLUTION"
      ]
    },
    {
      "cell_type": "code",
      "execution_count": 9,
      "metadata": {
        "id": "xxhkQ3uNqaTq"
      },
      "outputs": [],
      "source": [
        "assert los(date(2019,1,3), date(2019,1,8), \"COPD\") == 5\n",
        "assert los(date(2020,1,5), date(2020,1,8), \"Observation\") == 0"
      ]
    },
    {
      "cell_type": "code",
      "execution_count": 10,
      "metadata": {
        "id": "_Pj93N5AqaTq",
        "outputId": "fd22ba4e-bc45-4053-cf61-d96ee9ed6a35",
        "colab": {
          "base_uri": "https://localhost:8080/"
        }
      },
      "outputs": [
        {
          "output_type": "stream",
          "name": "stdout",
          "text": [
            "Finding tests in NoName\n"
          ]
        }
      ],
      "source": [
        "import doctest\n",
        "doctest.run_docstring_examples(los, globals(), verbose=True)"
      ]
    },
    {
      "cell_type": "code",
      "execution_count": 11,
      "metadata": {
        "id": "QLHbUz4TqaTq",
        "outputId": "c6aa18f4-0130-479f-92ab-07916025d9db",
        "colab": {
          "base_uri": "https://localhost:8080/"
        }
      },
      "outputs": [
        {
          "output_type": "stream",
          "name": "stdout",
          "text": [
            "5\n",
            "4\n",
            "1\n",
            "0\n",
            "0\n"
          ]
        }
      ],
      "source": [
        "encounters = {\n",
        "    \"E1234\": { \"admit\": date(2019,1,3), \"diagnosis\": \"COPD\", \"discharge\": date(2019,1,8) },\n",
        "    \"E8342\": { \"admit\": date(2019,1,5), \"diagnosis\": \"Hypertension\", \"discharge\": date(2019,1,9) },\n",
        "    \"E9231\": { \"admit\": date(2019,1,12), \"diagnosis\": \"Anxiety\", \"discharge\": date(2019,1,13) },\n",
        "    \"E8333\": { \"admit\": date(2019,1,15), \"diagnosis\": \"Observation\", \"discharge\": date(2019,1,16) },\n",
        "    \"E3342\": { \"admit\": date(2019,1,4), \"diagnosis\": \"Anxiety\", \"discharge\": date(2019,1,4)}\n",
        "}\n",
        "\n",
        "\n",
        "for encid, visit in encounters.items():\n",
        "    print(los(visit['admit'],visit['discharge'],visit['diagnosis']))\n",
        "\n",
        "# Your output should be\n",
        "# 5\n",
        "# 4\n",
        "# 1\n",
        "# 0\n",
        "# 0"
      ]
    },
    {
      "cell_type": "markdown",
      "metadata": {
        "id": "sku_ni8RqaTr"
      },
      "source": [
        "---\n",
        "---\n",
        "\n",
        "### 25.4 Average Length of Stay\n",
        "\n",
        "Create a function called `average_los` that returns the average of the LOS for the encounters in the provided dictionary. The encounters must be a dictionary that contains dictionaries that each contain at least an admit date and a discharge date.\n",
        "    \n",
        "If the length of stay of any individual encounter is 0, then it will not be counted toward the average."
      ]
    },
    {
      "cell_type": "code",
      "execution_count": 12,
      "metadata": {
        "id": "vi3s-wOfqaTr",
        "outputId": "f9509c87-fa79-4c0c-dc2f-71d509a10b30",
        "colab": {
          "base_uri": "https://localhost:8080/"
        }
      },
      "outputs": [
        {
          "output_type": "stream",
          "name": "stdout",
          "text": [
            "Average Length of Stay:3.3333333333333335days\n"
          ]
        }
      ],
      "source": [
        "\n",
        "### BEGIN SOLUTION\n",
        "\"\"\"\n",
        "   Calculate the average Length of stay (LOS) for a set of medical encounters.\n",
        "   Parameter:\n",
        "   -encounters(dict):A dictionary where keys are encounter IDs and value are dictionaries\n",
        "    containing details such as admit date, discharge date and diagnosis.\n",
        "   Returns:\n",
        "   -float :The average Length of stay in days, excluding encounters with a diagnosis of \"observation\"\n",
        "   Returns 0 if there are no valid encounters.\n",
        "\"\"\"\n",
        "def average_los(encounters):\n",
        "  total_los=0\n",
        "  num_valid_encounters=0\n",
        "  for encounter_id, details in encounters.items():\n",
        "    admit_date= details[\"admit\"]\n",
        "    discharge_date=details[\"discharge\"]\n",
        "    los=(discharge_date-admit_date).days\n",
        "\n",
        "    if los>0 and details[\"diagnosis\"].lower()!=\"observation\":\n",
        "      total_los += los\n",
        "      num_valid_encounters +=1\n",
        "  if num_valid_encounters == 0:\n",
        "    return 0\n",
        "\n",
        "  return total_los/ num_valid_encounters\n",
        "\n",
        "average_length_of_stay= average_los(encounters)\n",
        "print(f\"Average Length of Stay:{average_length_of_stay}days\")\n",
        "\n",
        "\n",
        "### END SOLUTION"
      ]
    },
    {
      "cell_type": "code",
      "execution_count": 13,
      "metadata": {
        "id": "k1xakuFTqaTr"
      },
      "outputs": [],
      "source": [
        "from datetime import date\n",
        "encounters = {\n",
        "    \"E1234\": { \"admit\": date(2019,1,3), \"diagnosis\": \"COPD\", \"discharge\": date(2019,1,8) },\n",
        "    \"E8342\": { \"admit\": date(2019,1,5), \"diagnosis\": \"Hypertension\", \"discharge\": date(2019,1,9) },\n",
        "    \"E9231\": { \"admit\": date(2019,1,12), \"diagnosis\": \"Anxiety\", \"discharge\": date(2019,1,13) },\n",
        "    \"E8333\": { \"admit\": date(2019,1,15), \"diagnosis\": \"Observation\", \"discharge\": date(2019,1,16) },\n",
        "    \"E3342\": { \"admit\": date(2019,1,4), \"diagnosis\": \"Anxiety\", \"discharge\": date(2019,1,4)}\n",
        "}\n",
        "\n",
        "assert(round(average_los(encounters),2) == 3.33)"
      ]
    },
    {
      "cell_type": "code",
      "execution_count": 14,
      "metadata": {
        "id": "4Nocv0TeqaTr",
        "outputId": "138b39c2-b71d-444b-b0ed-ec8e4c4777b6",
        "colab": {
          "base_uri": "https://localhost:8080/"
        }
      },
      "outputs": [
        {
          "output_type": "stream",
          "name": "stdout",
          "text": [
            "Finding tests in NoName\n"
          ]
        }
      ],
      "source": [
        "import doctest\n",
        "doctest.run_docstring_examples(average_los, globals(), verbose=True)"
      ]
    },
    {
      "cell_type": "markdown",
      "metadata": {
        "id": "nJSCXL-lqaTr"
      },
      "source": [
        "---\n",
        "\n",
        "### 25.5 Celsius to Farenheit\n",
        "\n",
        "Write your own function called `c_to_f` that converts degrees Celsius to degrees Farenheit.  Include in your solution a series of doc tests that can verify the conversion using inputs of 100, 0, and 37 degrees Celsius"
      ]
    },
    {
      "cell_type": "code",
      "execution_count": 15,
      "metadata": {
        "id": "4rJMyd78qaTr"
      },
      "outputs": [],
      "source": [
        "### BEGIN SOLUTION\n",
        "\"\"\"\n",
        "   Converts a temperature from from Celsius to Farenheit.\n",
        "   Parameters:\n",
        "   -temperature_in_celsius(float): Temperature value in Celsius.\n",
        "   Returns:\n",
        "   -float: Temperature value converted to Fahrenheit.\n",
        "   Formula:\n",
        "   Fahrenheit=(celsius*9/5)+32\n",
        "\"\"\"\n",
        "def c_to_f(temperature_in_Celsius):\n",
        "  temperature_in_Fahrenheit=(temperature_in_Celsius*9/5)+32\n",
        "  return temperature_in_Fahrenheit\n",
        "\n",
        "### END SOLUTION"
      ]
    },
    {
      "cell_type": "code",
      "execution_count": 16,
      "metadata": {
        "id": "bOwrnXzbqaTs",
        "outputId": "8689fd26-505b-447d-915f-f67ea830874f",
        "colab": {
          "base_uri": "https://localhost:8080/"
        }
      },
      "outputs": [
        {
          "output_type": "stream",
          "name": "stdout",
          "text": [
            "Finding tests in NoName\n"
          ]
        }
      ],
      "source": [
        "import doctest\n",
        "doctest.run_docstring_examples(c_to_f, globals(), verbose=True)"
      ]
    },
    {
      "cell_type": "code",
      "execution_count": 16,
      "metadata": {
        "id": "tGJefJh_qaTs"
      },
      "outputs": [],
      "source": []
    },
    {
      "cell_type": "markdown",
      "metadata": {
        "id": "LE2SVhRcqaTs"
      },
      "source": [
        "---\n",
        "\n",
        "## Check your work above\n",
        "\n",
        "If you didn't get them all correct, take a few minutes to think through those that aren't correct.\n",
        "\n",
        "\n",
        "## Submitting Your Work\n",
        "\n",
        "In order to submit your work, you'll need to use the `git` command line program to **add** your homework file (this file) to your local repository, **commit** your changes to your local repository, and then **push** those changes up to github.com.  From there, I'll be able to **pull** the changes down and do my grading.  I'll provide some feedback, **commit** and **push** my comments back to you.  Next week, I'll show you how to **pull** down my comments.\n",
        "\n",
        "First run through everything one last time and submit your work:\n",
        "1. Use the `Kernel` -> `Restart Kernel and Run All Cells` menu option to run everything from top to bottom and stop here.\n",
        "2. Then open a new command line by clicking the `+` icon above the file list and chosing `Terminal`\n",
        "3. At the command line in the new Terminal, follow these steps:\n",
        "  1. Change directories to your project folder and the week03 subfolder (`cd <folder name>`)\n",
        "  2. Make sure your project folders are up to date with github.com (`git pull`)\n",
        "  3. Add the homework files for this week (`git add <file name>`)\n",
        "  4. Commit your changes (`git commit -a -m \"message\"`)\n",
        "  5. Push your changes (`git push`)\n",
        "  \n",
        "If anything fails along the way with this submission part of the process, let me know.  I'll help you troubleshoort."
      ]
    }
  ],
  "metadata": {
    "celltoolbar": "Create Assignment",
    "kernelspec": {
      "display_name": "Python 3",
      "language": "python",
      "name": "python3"
    },
    "language_info": {
      "codemirror_mode": {
        "name": "ipython",
        "version": 3
      },
      "file_extension": ".py",
      "mimetype": "text/x-python",
      "name": "python",
      "nbconvert_exporter": "python",
      "pygments_lexer": "ipython3",
      "version": "3.6.7"
    },
    "colab": {
      "provenance": []
    }
  },
  "nbformat": 4,
  "nbformat_minor": 0
}