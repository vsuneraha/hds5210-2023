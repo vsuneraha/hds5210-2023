{
  "cells": [
    {
      "cell_type": "markdown",
      "metadata": {
        "id": "WSnvBYK10Lhx"
      },
      "source": [
        "# Week 7 Assignment\n",
        "\n",
        "We've been working with different types of data structures in Python (dictionary, list, etc), how those are represented in JSON documents, and how to write code to access specific data elements. In this week's assignment, you will need to create your own JSON document to store information about yourself and the grades you've received from week 1 to week 4 and the week 6 quiz.  That is, everything you should have received a grade for.  Then you'll need to show me you know how to navigate the JSON in that file.\n",
        "\n",
        "Different from what we've done in the past, you do not have to write any functions or include any docstrings.  Just create some JSON and write some code.\n",
        "\n",
        "---"
      ]
    },
    {
      "cell_type": "markdown",
      "metadata": {
        "id": "2KkCO_fD0Lhz"
      },
      "source": [
        "## 7.1 Create a JSON string\n",
        "\n",
        "Create a JSON string that contains your name, email, year you were born, all of the grades you've received back so far, and a comment about what you thought was most challenging on each of those assignments.  This can be any structure you choose, but make sure it uses a dictionary and a list, and has at least two levels of hierarchy.  That is, it can't just be one big long list."
      ]
    },
    {
      "cell_type": "markdown",
      "metadata": {
        "id": "DPL-11a-0Lhz"
      },
      "source": [
        "First, explain how your data structure is going to look..."
      ]
    },
    {
      "cell_type": "markdown",
      "metadata": {
        "id": "ASN0QToW0Lhz"
      },
      "source": [
        "I'm planning to construct a JSON structure that holds information about my personal details and the grades I received in HDS5201. I will create a dictionary called \"hds5210,\" which will include key-value pairs for my name, date of birth, and year of birth. In addition to this, there will be a list of assignments, each represented by five key-value pairs: assignment name, grades received, and a description of the challenges encountered during each assignment."
      ]
    },
    {
      "cell_type": "markdown",
      "metadata": {
        "id": "jfFI2B8a0Lh0"
      },
      "source": [
        "Then put the actual JSON you've created inside the multiline string below..."
      ]
    },
    {
      "cell_type": "code",
      "execution_count": 9,
      "metadata": {
        "id": "u1WBkKla0Lh0"
      },
      "outputs": [],
      "source": [
        "hds5210 = \"\"\"\n",
        "{\n",
        "    \"my_personal_info\": {\n",
        "        \"name\": \"vinith suneraha\",\n",
        "        \"my_email\": \"vsuneraha@slu.edu\",\n",
        "        \"year_of_birth\": 2000\n",
        "    },\n",
        "    \"assignment\": [\n",
        "        {\n",
        "            \"assignment\": \"week01\",\n",
        "            \"grade\": 10,\n",
        "            \"most_challenging\": \"I didn't face any issue in week01 assignment.\"\n",
        "        },\n",
        "        {\n",
        "            \"assignment\": \"week02\",\n",
        "            \"grade\": 10,\n",
        "            \"most_challenging\": \"I have faced some issues with clauses in week02 assignment.\"\n",
        "        },\n",
        "        {\n",
        "            \"assignment\": \"week03\",\n",
        "            \"grade\": 10,\n",
        "            \"most_challenging\": \"I took some time to debug the code in week03 assignment.\"\n",
        "        },\n",
        "        {\n",
        "            \"assignment\": \"week04\",\n",
        "            \"grade\": 8,\n",
        "            \"most_challenging\": \"I took some time to debug the code in week04 assignment.\"\n",
        "        },\n",
        "        {\n",
        "            \"assignment\": \"week06_quiz\",\n",
        "            \"grade\": 10,\n",
        "            \"most_challenging\": \"The most challenging aspect of the assignment is time management.\"\n",
        "        }\n",
        "    ]\n",
        "}\n",
        "\"\"\""
      ]
    },
    {
      "cell_type": "markdown",
      "metadata": {
        "id": "LuxZ7FsC0Lh0"
      },
      "source": [
        "## 7.2 Do something with your JSON\n",
        "\n",
        "Now use Python code to do something with the Json above.  Turn it into English text, but make sure that you use at least one loop to access some dict or list content of your JSON.  Below, I've provided some basic code to read in the string above as JSON and return a Python object.  Your job is to work with that data structure and print out the important information like your name, email, and how you did on each assignment."
      ]
    },
    {
      "cell_type": "code",
      "execution_count": 10,
      "metadata": {
        "id": "vL1_6NMP0Lh1",
        "outputId": "1dc4b67c-29b4-481e-bbb2-7650e7f9a4a2",
        "colab": {
          "base_uri": "https://localhost:8080/"
        }
      },
      "outputs": [
        {
          "output_type": "stream",
          "name": "stdout",
          "text": [
            "Hello, my name is vinith suneraha and my email address is vsuneraha@slu.edu. I was born in 2000.\n",
            "For the week01 assignment, I received a grade of 10\n",
            "The most challenging part was: I didn't face any issue in week01 assignment.\n",
            "For the week02 assignment, I received a grade of 10\n",
            "The most challenging part was: I have faced some issues with clauses in week02 assignment.\n",
            "For the week03 assignment, I received a grade of 10\n",
            "The most challenging part was: I took some time to debug the code in week03 assignment.\n",
            "For the week04 assignment, I received a grade of 8\n",
            "The most challenging part was: I took some time to debug the code in week04 assignment.\n",
            "For the week06_quiz assignment, I received a grade of 10\n",
            "The most challenging part was: The most challenging aspect of the assignment is time management.\n"
          ]
        }
      ],
      "source": [
        "import json\n",
        "\n",
        "info = json.loads(hds5210)\n",
        "name = info[\"my_personal_info\"][\"name\"]\n",
        "my_email = info[\"my_personal_info\"][\"my_email\"]\n",
        "year_of_birth = info[\"my_personal_info\"][\"year_of_birth\"]\n",
        "assignments = info[\"assignment\"]\n",
        "\n",
        "print(f\"Hello, my name is {name} and my email address is {my_email}. I was born in {year_of_birth}.\")\n",
        "for assignment in assignments:\n",
        "    print(f\"For the {assignment['assignment']} assignment, I received a grade of {assignment['grade']}\")\n",
        "    print(f\"The most challenging part was: {assignment['most_challenging']}\")"
      ]
    },
    {
      "cell_type": "markdown",
      "metadata": {
        "id": "XtgnrBQM0Lh1"
      },
      "source": [
        "## 7.3 Reflect\n",
        "\n",
        "Write a paragraph on any reflections you have. Was this hard? Easy?  What parts were most challenging or easiest? What did you like or dislike about the assignment?  Share whatever important thoughts you have abou this assignment."
      ]
    },
    {
      "cell_type": "markdown",
      "metadata": {
        "id": "z3iw-T-U0Lh1"
      },
      "source": [
        "\"In this code, we're dealing with a structured data format called JSON, which neatly organizes information. The JSON structure we're working with includes two key parts. The first, 'my_personal_info,' contains basic personal details like the name 'Vinith Suneraha,' an email address 'vsuneraha@slu.edu,' and a birth year of 2000. This part is easy to work with and straightforward to access in Python. The second part, 'assignment,' is a list of assignments, each with an assignment name, a grade (a numerical score), and a description of the most challenging aspect. The code uses Python's 'json' module to load this JSON data and then pulls out the information we need. It's relatively simple to understand and manage, which makes it a great example for anyone learning about working with structured data in Python. This code is a building block for more advanced data processing and analysis tasks.\""
      ]
    },
    {
      "cell_type": "markdown",
      "metadata": {
        "id": "is1FdSWB0Lh1"
      },
      "source": [
        "---\n",
        "\n",
        "# Example\n",
        "\n",
        "Below is an example of something similar, but this uses information my and my friend's kids instead of grades."
      ]
    },
    {
      "cell_type": "code",
      "execution_count": null,
      "metadata": {
        "id": "1xbPWSFU0Lh1",
        "outputId": "bdf2d8c0-b792-40ad-bf53-3edfdba4474e"
      },
      "outputs": [
        {
          "name": "stdout",
          "output_type": "stream",
          "text": [
            "Hi, my name is Paul. I've got 3 kids. Their names are Ellie, Ada, Teddy.\n",
            "My friend, Anny has 1 kids. That's fewer than me. Their names are 1\n"
          ]
        }
      ],
      "source": [
        "hds5210 = \"\"\"\n",
        "{\n",
        "    \"me\": {\n",
        "        \"name\": \"Paul\",\n",
        "        \"kids\": [\"Ellie\", \"Ada\", \"Teddy\"]\n",
        "    },\n",
        "    \"friend\": {\n",
        "        \"name\": \"Anny\",\n",
        "        \"kids\": [\"Abby\"]\n",
        "    }\n",
        "}\n",
        "\"\"\"\n",
        "\n",
        "import json\n",
        "\n",
        "info = json.loads(hds5210)\n",
        "\n",
        "me = info[\"me\"][\"name\"]\n",
        "my_kids_count = len(info[\"me\"][\"kids\"])\n",
        "kids_list = \", \".join(info[\"me\"][\"kids\"])\n",
        "friend = info[\"friend\"][\"name\"]\n",
        "friends_kid_count = len(info[\"friend\"][\"kids\"])\n",
        "friend_kids = \", \".join(info[\"friend\"][\"kids\"])\n",
        "compare = \"more\" if friends_kid_count > my_kids_count else \"fewer\"\n",
        "\n",
        "print(f\"Hi, my name is {me}. I've got {my_kids_count} kids. Their names are {kids_list}.\")\n",
        "print(f\"My friend, {friend} has {friends_kid_count} kids. That's {compare} than me. Their names are {friends_kid_count}\")"
      ]
    }
  ],
  "metadata": {
    "kernelspec": {
      "display_name": "Python 3",
      "language": "python",
      "name": "python3"
    },
    "language_info": {
      "codemirror_mode": {
        "name": "ipython",
        "version": 3
      },
      "file_extension": ".py",
      "mimetype": "text/x-python",
      "name": "python",
      "nbconvert_exporter": "python",
      "pygments_lexer": "ipython3",
      "version": "3.9.16"
    },
    "colab": {
      "provenance": []
    }
  },
  "nbformat": 4,
  "nbformat_minor": 0
}