{
  "cells": [
    {
      "cell_type": "markdown",
      "metadata": {
        "id": "IRBs1ffmyr_K"
      },
      "source": [
        "# Week 7 Exercises\n",
        "\n",
        "_McKinney 6.1_\n",
        "\n",
        "\n",
        "This week has been all about getting information off the internet both in structured data formats (CSV, JSON, etc) as well as HTML.  More and more data is being made publicly available on the internet.  These data sources are especially useful for making connections between real-world operational projects and government reported data.\n",
        "\n",
        "Test your knowledge of the content from the lectures through the multiple choice questions below.\n",
        "\n",
        "---\n",
        "---"
      ]
    },
    {
      "cell_type": "markdown",
      "metadata": {
        "id": "fIKM_eo5yr_L"
      },
      "source": [
        "## A: HealthData.gov\n",
        "\n",
        "Go to [healthdata.gov](http://www.healthdata.gov) and search \"all FDA recalls\" to see if you can finda any information about recalls from the Food & Drug Administration.  Use the information you find about this data source to answer the questions below.\n",
        "\n",
        "\n",
        "### 31.1 The All FDA Recalls data is available in what file type?\n",
        "\n",
        "> A) CSV\n",
        ">\n",
        "> B) Excel\n",
        ">\n",
        "> C) XML\n",
        ">\n",
        "> D) JSON"
      ]
    },
    {
      "cell_type": "code",
      "execution_count": null,
      "metadata": {
        "id": "1kMRl2B9yr_M"
      },
      "outputs": [],
      "source": [
        "answers = {}\n",
        "answers[\"31.1\"] = \"C\""
      ]
    },
    {
      "cell_type": "markdown",
      "metadata": {
        "id": "30JS8VFryr_M"
      },
      "source": [
        "### 31.2 Which of the following is a major challenge with this open government entry?\n",
        "\n",
        "> A) The data has not been updated in more than 10 years\n",
        ">\n",
        "> B) The link to access the actual data file is broken\n",
        ">\n",
        "> C) The data set has no listed owner\n",
        ">\n",
        "> D) The data is classified as secret"
      ]
    },
    {
      "cell_type": "code",
      "execution_count": null,
      "metadata": {
        "id": "vBlbDlJpyr_M"
      },
      "outputs": [],
      "source": [
        "answers[\"31.2\"] = [\"A\", \"B\"]"
      ]
    },
    {
      "cell_type": "markdown",
      "metadata": {
        "id": "fAH4JzBSyr_M"
      },
      "source": [
        "## B: Kaggle.com\n",
        "\n",
        "Go to [Kaggle.com](http://kaggle.com) and search datasets for a dataset called **Student Mental health** that was created by the user **MD SHARIFUL ISLAM**, then answer the questions below regarding that entry.\n",
        "\n",
        "### 31.3 The data for this project has only 1 file. How many columns (features) does that dataset have?\n",
        "\n",
        "> A) 10\n",
        ">\n",
        "> B) 1\n",
        ">\n",
        "> C) 11\n",
        ">\n",
        "> D) 41\n"
      ]
    },
    {
      "cell_type": "code",
      "execution_count": null,
      "metadata": {
        "id": "Kh2o8DJJyr_N"
      },
      "outputs": [],
      "source": [
        "answers[\"31.3\"] = \"C\""
      ]
    },
    {
      "cell_type": "markdown",
      "metadata": {
        "id": "goYn7oY3yr_N"
      },
      "source": [
        "### 31.4 Which of the following columns are included in that dataset?\n",
        "\n",
        "> A) Marital Status\n",
        ">\n",
        "> B) Do you have Anxiety?\n",
        ">\n",
        "> C) Gender\n",
        ">\n",
        "> D) Race / Ethnicity"
      ]
    },
    {
      "cell_type": "code",
      "execution_count": null,
      "metadata": {
        "id": "RnTEkJxgyr_N"
      },
      "outputs": [],
      "source": [
        "answers[\"31.4\"] = [\"A\",\"B\",\"C\"]"
      ]
    },
    {
      "cell_type": "markdown",
      "metadata": {
        "id": "3Z1Xzrqeyr_N"
      },
      "source": [
        "## C: HTML\n",
        "\n",
        "### 32.1 HTML is a form of which other data format we've already discussed?\n",
        "\n",
        "> A) Binary\n",
        ">\n",
        "> B) eXtensible Markup Language\n",
        ">\n",
        "> C) JavaScript Object Notation\n",
        ">\n",
        "> D) HL7 FHIR\n"
      ]
    },
    {
      "cell_type": "code",
      "execution_count": null,
      "metadata": {
        "id": "HbZv5NU3yr_N"
      },
      "outputs": [],
      "source": [
        "answers[\"32.1\"] = \"B\""
      ]
    },
    {
      "cell_type": "markdown",
      "metadata": {
        "id": "eSiI1Vjhyr_N"
      },
      "source": [
        "### 32.2 Which of the following is **not** a term associated with HTML?\n",
        "\n",
        "> A) dictionary\n",
        ">\n",
        "> B) tag\n",
        ">\n",
        "> C) element\n",
        ">\n",
        "> D) attribute"
      ]
    },
    {
      "cell_type": "code",
      "execution_count": null,
      "metadata": {
        "id": "-X7NDqwnyr_O"
      },
      "outputs": [],
      "source": [
        "answers[\"32.2\"] = \"A\""
      ]
    },
    {
      "cell_type": "markdown",
      "metadata": {
        "id": "CVlFtRmUyr_O"
      },
      "source": [
        "### 32.3 Which of these packages can be used to extract a table of data from HTML using Python?\n",
        "\n",
        "> A) lxml\n",
        ">\n",
        "> B) BeautifulSoup\n",
        ">\n",
        "> C) Pandas\n",
        ">\n",
        "> D) All of the above"
      ]
    },
    {
      "cell_type": "code",
      "execution_count": null,
      "metadata": {
        "id": "AzaOhiMgyr_O"
      },
      "outputs": [],
      "source": [
        "answers[\"32.3\"] = \"D\""
      ]
    },
    {
      "cell_type": "markdown",
      "metadata": {
        "id": "CQzRT1geyr_O"
      },
      "source": [
        "---\n",
        "\n",
        "Checking Your Work\n",
        "---\n",
        "\n",
        "After completing your work above and running each cell, you can check your answers by running the code below.\n",
        "\n",
        "The easiest way to do this is to use the `Kernel` -> `Restart Kernel and Run All Cells` menu option. This option restarts Python and runs every cell from top to bottom until it encounters an exception of some kind.  It will stop after running the cell below and outputing a summary of how many answers you have correct or incorrect.\n"
      ]
    },
    {
      "cell_type": "code",
      "execution_count": null,
      "metadata": {
        "id": "sjfi3x0uyr_O",
        "outputId": "f1eb1a05-1ea6-447f-a63e-1e8c7baa6c6a"
      },
      "outputs": [
        {
          "name": "stdout",
          "output_type": "stream",
          "text": [
            "Requirement already satisfied: boto3 in /usr/local/lib/python3.10/dist-packages (1.28.33)\n",
            "Requirement already satisfied: botocore<1.32.0,>=1.31.33 in /usr/local/lib/python3.10/dist-packages (from boto3) (1.31.33)\n",
            "Requirement already satisfied: jmespath<2.0.0,>=0.7.1 in /usr/local/lib/python3.10/dist-packages (from boto3) (1.0.1)\n",
            "Requirement already satisfied: s3transfer<0.7.0,>=0.6.0 in /usr/local/lib/python3.10/dist-packages (from boto3) (0.6.2)\n",
            "Requirement already satisfied: python-dateutil<3.0.0,>=2.1 in /usr/local/lib/python3.10/dist-packages (from botocore<1.32.0,>=1.31.33->boto3) (2.8.2)\n",
            "Requirement already satisfied: urllib3<1.27,>=1.25.4 in /usr/local/lib/python3.10/dist-packages (from botocore<1.32.0,>=1.31.33->boto3) (1.26.16)\n",
            "Requirement already satisfied: six>=1.5 in /usr/local/lib/python3.10/dist-packages (from python-dateutil<3.0.0,>=2.1->botocore<1.32.0,>=1.31.33->boto3) (1.16.0)\n",
            "=============================================\n",
            "== RESULTS for paul.boal@gmail.com\n",
            "=============================================\n",
            "   Q#               Yours  Correct?\n",
            "  1.1                   A        OK\n",
            "\u001b[49m  1.2                   D        NO\u001b[m **\n",
            "\u001b[49m  1.3                   X        NO\u001b[m **\n",
            "\u001b[49m  2.1                   X        NO\u001b[m **\n",
            "\u001b[49m  2.2                   X        NO\u001b[m **\n",
            "\u001b[49m  2.3                   X        NO\u001b[m **\n",
            "\u001b[49m  3.1                   X        NO\u001b[m **\n",
            "\u001b[49m  3.2                   X        NO\u001b[m **\n",
            "\u001b[49m  3.3                   X        NO\u001b[m **\n",
            "\u001b[49m  4.1                   X        NO\u001b[m **\n",
            "\u001b[49m  4.2                   X        NO\u001b[m **\n"
          ]
        }
      ],
      "source": [
        "!pip install boto3\n",
        "import httpimport\n",
        "with httpimport.remote_repo('https://gist.githubusercontent.com/paulboal/f14bead2d24fcb9499f4de4607908824/raw/4c3c0e75ea1510bb090bada047372954160e64d4'):\n",
        "    import checker\n",
        "\n",
        "checker.check_hds5210(answers, 'week07')"
      ]
    },
    {
      "cell_type": "markdown",
      "metadata": {
        "id": "XdI-Xpk3yr_P"
      },
      "source": [
        "---\n",
        "\n",
        "## Check your work above\n",
        "\n",
        "If you didn't get them all correct, take a few minutes to think through those that aren't correct.\n",
        "\n",
        "\n",
        "## Submitting Your Work\n",
        "\n",
        "In order to submit your work, you'll need to save this notebook file back to GitHub.  To do that in Google Colab:\n",
        "1. File -> Save a Copy in GitHub\n",
        "2. Make sure your HDS5210 repository is selected\n",
        "3. Make sure the file name includes the week number like this: `week02/week02_assignment_1.ipynb`\n",
        "4. Add a commit message that means something\n",
        "\n",
        "**Be sure week names are lowercase and use a two digit week number!!**\n",
        "\n",
        "**Be sure you use the same file name provided by the instructor!!**\n",
        "\n"
      ]
    }
  ],
  "metadata": {
    "kernelspec": {
      "display_name": "Python 3",
      "language": "python",
      "name": "python3"
    },
    "language_info": {
      "codemirror_mode": {
        "name": "ipython",
        "version": 3
      },
      "file_extension": ".py",
      "mimetype": "text/x-python",
      "name": "python",
      "nbconvert_exporter": "python",
      "pygments_lexer": "ipython3",
      "version": "3.6.7"
    },
    "colab": {
      "provenance": []
    }
  },
  "nbformat": 4,
  "nbformat_minor": 0
}